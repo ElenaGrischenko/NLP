{
 "cells": [
  {
   "cell_type": "code",
   "execution_count": 1,
   "metadata": {},
   "outputs": [],
   "source": [
    "import re\n",
    "import pandas as pd\n",
    "import numpy as np\n",
    "import simplemma\n",
    "from stop_words import get_stop_words\n",
    "from sklearn.feature_extraction.text import TfidfVectorizer\n",
    "from sklearn.feature_extraction.text import TfidfTransformer\n",
    "from sklearn.feature_extraction.text import CountVectorizer\n",
    "from sklearn.naive_bayes import MultinomialNB\n",
    "from sklearn.pipeline import Pipeline\n",
    "from sklearn.linear_model import SGDClassifier\n",
    "from sklearn.linear_model import LogisticRegression"
   ]
  },
  {
   "cell_type": "code",
   "execution_count": 2,
   "metadata": {},
   "outputs": [],
   "source": [
    "stop_words = get_stop_words('uk')"
   ]
  },
  {
   "cell_type": "code",
   "execution_count": 28,
   "metadata": {},
   "outputs": [],
   "source": [
    "#попередня обробка тексту\n",
    "def ClearText(text):\n",
    "    #переведення до нижнього регістру всіх слів\n",
    "    cleartext = text.lower()\n",
    "    #print(cleartext)\n",
    "    #прибирання пустих рядків та розрив рядків\n",
    "    cleartext = re.sub('\\-\\s\\r\\n\\s{1,}|\\-\\s\\r\\n|\\r\\n', '', cleartext) \n",
    "    #залишаємо лише слова, прибираємо пунктуацію та числа\n",
    "    cleartext = re.sub('[.,:;_%©?*,!@#$%^&()\\d]|[+=]|[[]|[]]|[/]|\"|\\s{2,}|-', ' ', cleartext) #deleting symbols  \n",
    "    #cleartext = cleartext.translate(remove_digits)\n",
    "    cleartext = cleartext.replace(\"\\\\\", \"\")\n",
    "    cleartext = cleartext.rstrip()\n",
    "    #прибираємо зайві пробіи\n",
    "    cleartext = re.sub(\" +\", \" \", cleartext)\n",
    "    #ділимо речення на список слів, розбиваємо по пробілам\n",
    "    cleartext = re.split(\" \", cleartext)\n",
    "    #прибираємо стопслова\n",
    "    cleartext = [word for word in cleartext if word not in stop_words]\n",
    "    #прибираємо слова, довжина який менше 3 букв\n",
    "    cleartext = [word for word in cleartext if len(word) > 3]\n",
    "    #лематизація слів\n",
    "    cleartext = [simplemma.lemmatize(word, lang='uk') for word in cleartext]\n",
    "    return ' '.join(cleartext)"
   ]
  },
  {
   "cell_type": "code",
   "execution_count": 97,
   "metadata": {},
   "outputs": [
    {
     "name": "stdout",
     "output_type": "stream",
     "text": [
      "['a', 'б', 'в', 'г', 'е', 'ж', 'з', 'м', 'т', 'у', 'я', 'є', 'і', 'аж', 'ви', 'де', 'до', 'за', 'зі', 'ми', 'на', 'не', 'ну', 'нх', 'ні', 'по', 'та', 'ти', 'то', 'ту', 'ті', 'це', 'цю', 'ця', 'ці', 'чи', 'ще', 'що', 'як', 'їй', 'їм', 'їх', 'її', 'або', 'але', 'ало', 'без', 'був', 'вам', 'вас', 'ваш', 'вже', 'все', 'всю', 'вся', 'від', 'він', 'два', 'дві', 'для', 'ким', 'мож', 'моя', 'моє', 'мої', 'міг', 'між', 'мій', 'над', 'нам', 'нас', 'наш', 'нею', 'неї', 'них', 'ніж', 'ній', 'ось', 'при', 'про', 'під', 'пір', 'раз', 'рік', 'сам', 'сих', 'сім', 'так', 'там', 'теж', 'тим', 'тих', 'той', 'тою', 'три', 'тут', 'хоч', 'хто', 'цей', 'цим', 'цих', 'час', 'щоб', 'яка', 'які', 'адже', 'буде', 'буду', 'будь', 'була', 'були', 'було', 'бути', 'вами', 'ваша', 'ваше', 'ваші', 'весь', 'вниз', 'вона', 'вони', 'воно', 'всею', 'всім', 'всіх', 'втім', 'геть', 'далі', 'двох', 'день', 'дуже', 'зате', 'його', 'йому', 'каже', 'кого', 'коли', 'кому', 'крім', 'куди', 'лише', 'люди', 'мало', 'мати', 'мене', 'мені', 'миру', 'мною', 'може', 'нами', 'наша', 'наше', 'наші', 'ними', 'ніби', 'один', 'поки', 'пора', 'рано', 'року', 'році', 'сама', 'саме', 'саму', 'самі', 'свою', 'своє', 'свої', 'себе', 'собі', 'став', 'суть', 'така', 'таке', 'такі', 'твоя', 'твоє', 'твій', 'тебе', 'тими', 'тобі', 'того', 'тоді', 'тому', 'туди', 'хоча', 'хіба', 'цими', 'цієї', 'часу', 'чого', 'чому', 'який', 'яких', 'якої', 'якщо', \"ім'я\", 'інша', 'інше', 'інші', 'буває', 'будеш', 'більш', 'вгору', 'вміти', 'внизу', 'вісім', 'давно', 'даром', 'добре', 'довго', 'друго', 'дякую', 'життя', 'зараз', 'знову', 'какая', 'кожен', 'кожна', 'кожне', 'кожні', 'краще', 'ледве', 'майже', 'менше', 'могти', 'можна', 'назад', 'немає', 'нижче', 'нього', 'однак', \"п'ять\", 'перед', 'поруч', 'потім', 'проти', 'після', 'років', 'самим', 'самих', 'самій', 'свого', 'своєї', 'своїх', 'собою', 'справ', 'такий', 'також', 'тепер', 'тисяч', 'тобою', 'треба', 'трохи', 'усюди', 'усіма', 'хочеш', 'цього', 'цьому', 'часто', 'через', 'шість', 'якого', 'іноді', 'інший', 'інших', 'багато', 'будемо', 'будете', 'будуть', 'більше', 'всього', 'всьому', 'далеко', 'десять', 'досить', 'другий', 'дійсно', 'завжди', 'звідси', 'зовсім', 'кругом', 'кілька', 'людина', 'можуть', 'навіть', 'навіщо', 'нагорі', 'небудь', 'низько', 'ніколи', 'нікуди', 'нічого', 'обидва', 'одного', 'однієї', \"п'ятий\", 'перший', 'просто', 'раніше', 'раптом', 'самими', 'самого', 'самому', 'сказав', 'скрізь', 'сьомий', 'третій', 'тільки', 'хотіти', 'чотири', 'чудово', 'шостий', 'близько', 'важлива', 'важливе', 'важливі', 'вдалині', 'восьмий', 'говорив', \"дев'ять\", 'десятий', 'зайнята', 'зайнято', 'зайняті', 'занадто', 'значить', 'навколо', 'нарешті', 'нерідко', 'повинно', 'посеред', 'початку', 'пізніше', 'сказала', 'сказати', 'скільки', 'спасибі', 'частіше', 'важливий', 'двадцять', \"дев'ятий\", 'зазвичай', 'зайнятий', 'звичайно', 'здається', 'найбільш', 'не можна', 'недалеко', 'особливо', 'потрібно', 'спочатку', 'сьогодні', 'численна', 'численне', 'численні', 'відсотків', 'двадцятий', 'звідусіль', 'мільйонів', 'нещодавно', 'прекрасно', 'четвертий', 'численний', 'будь ласка', 'дванадцять', 'одинадцять', 'сімнадцять', 'тринадцять', 'безперервно', 'дванадцятий', 'одинадцятий', 'одного разу', \"п'ятнадцять\", 'сімнадцятий', 'тринадцятий', 'шістнадцять', 'вісімнадцять', \"п'ятнадцятий\", 'чотирнадцять', 'шістнадцятий', 'вісімнадцятий', \"дев'ятнадцять\", 'чотирнадцятий', \"дев'ятнадцятий\"]\n"
     ]
    }
   ],
   "source": [
    "print(stop_words)"
   ]
  },
  {
   "cell_type": "code",
   "execution_count": 74,
   "metadata": {},
   "outputs": [
    {
     "data": {
      "text/html": [
       "<div>\n",
       "<style scoped>\n",
       "    .dataframe tbody tr th:only-of-type {\n",
       "        vertical-align: middle;\n",
       "    }\n",
       "\n",
       "    .dataframe tbody tr th {\n",
       "        vertical-align: top;\n",
       "    }\n",
       "\n",
       "    .dataframe thead th {\n",
       "        text-align: right;\n",
       "    }\n",
       "</style>\n",
       "<table border=\"1\" class=\"dataframe\">\n",
       "  <thead>\n",
       "    <tr style=\"text-align: right;\">\n",
       "      <th></th>\n",
       "      <th>Comment</th>\n",
       "      <th>Category</th>\n",
       "    </tr>\n",
       "  </thead>\n",
       "  <tbody>\n",
       "    <tr>\n",
       "      <td>0</td>\n",
       "      <td>Що вам найбільше сподобалося в перевтіленні Лю...</td>\n",
       "      <td>Not_Toxic</td>\n",
       "    </tr>\n",
       "    <tr>\n",
       "      <td>1</td>\n",
       "      <td>яка гарна родина, щастя вам))</td>\n",
       "      <td>Not_Toxic</td>\n",
       "    </tr>\n",
       "    <tr>\n",
       "      <td>2</td>\n",
       "      <td>Дякую команді за такий чудовий проєкт. На жаль...</td>\n",
       "      <td>Not_Toxic</td>\n",
       "    </tr>\n",
       "    <tr>\n",
       "      <td>3</td>\n",
       "      <td>Щодо танго не згодна. Виглядає так, наче Люда ...</td>\n",
       "      <td>Not_Toxic</td>\n",
       "    </tr>\n",
       "    <tr>\n",
       "      <td>4</td>\n",
       "      <td>Людмила дуже гарна жінка, їй дуже пасує жіночн...</td>\n",
       "      <td>Not_Toxic</td>\n",
       "    </tr>\n",
       "  </tbody>\n",
       "</table>\n",
       "</div>"
      ],
      "text/plain": [
       "                                             Comment   Category\n",
       "0  Що вам найбільше сподобалося в перевтіленні Лю...  Not_Toxic\n",
       "1                      яка гарна родина, щастя вам))  Not_Toxic\n",
       "2  Дякую команді за такий чудовий проєкт. На жаль...  Not_Toxic\n",
       "3  Щодо танго не згодна. Виглядає так, наче Люда ...  Not_Toxic\n",
       "4  Людмила дуже гарна жінка, їй дуже пасує жіночн...  Not_Toxic"
      ]
     },
     "execution_count": 74,
     "metadata": {},
     "output_type": "execute_result"
    }
   ],
   "source": [
    "df_train = pd.read_excel('C:/Users/helen/OneDrive/Рабочий стол/пары/NLP_train.xlsx')\n",
    "df_test = pd.read_excel('C:/Users/helen/OneDrive/Рабочий стол/пары/NLP_test.xlsx')\n",
    "df_train.head()"
   ]
  },
  {
   "cell_type": "code",
   "execution_count": 59,
   "metadata": {},
   "outputs": [
    {
     "data": {
      "text/html": [
       "<div>\n",
       "<style scoped>\n",
       "    .dataframe tbody tr th:only-of-type {\n",
       "        vertical-align: middle;\n",
       "    }\n",
       "\n",
       "    .dataframe tbody tr th {\n",
       "        vertical-align: top;\n",
       "    }\n",
       "\n",
       "    .dataframe thead th {\n",
       "        text-align: right;\n",
       "    }\n",
       "</style>\n",
       "<table border=\"1\" class=\"dataframe\">\n",
       "  <thead>\n",
       "    <tr style=\"text-align: right;\">\n",
       "      <th></th>\n",
       "      <th>Comment</th>\n",
       "      <th>Category</th>\n",
       "    </tr>\n",
       "  </thead>\n",
       "  <tbody>\n",
       "    <tr>\n",
       "      <td>553</td>\n",
       "      <td>Шоу для недалеких. Нас у школі вчили зовсім ін...</td>\n",
       "      <td>Toxic</td>\n",
       "    </tr>\n",
       "    <tr>\n",
       "      <td>1001</td>\n",
       "      <td>Добрий вечір.Ірпінь, будь ласка, гляньте.</td>\n",
       "      <td>Not_Toxic</td>\n",
       "    </tr>\n",
       "    <tr>\n",
       "      <td>598</td>\n",
       "      <td>Яка ж крінжуха, шоу відстій</td>\n",
       "      <td>Toxic</td>\n",
       "    </tr>\n",
       "    <tr>\n",
       "      <td>1108</td>\n",
       "      <td>Потрібно \"Коли ми вдома\" перекладати та продав...</td>\n",
       "      <td>Not_Toxic</td>\n",
       "    </tr>\n",
       "    <tr>\n",
       "      <td>378</td>\n",
       "      <td>привіт, новий підписчи, виглядаєш дуже жіночо</td>\n",
       "      <td>Not_Toxic</td>\n",
       "    </tr>\n",
       "    <tr>\n",
       "      <td>...</td>\n",
       "      <td>...</td>\n",
       "      <td>...</td>\n",
       "    </tr>\n",
       "    <tr>\n",
       "      <td>899</td>\n",
       "      <td>Super. Дуже чудовий дует.\\nДякую за гарний нас...</td>\n",
       "      <td>Not_Toxic</td>\n",
       "    </tr>\n",
       "    <tr>\n",
       "      <td>890</td>\n",
       "      <td>Бережи Боже монтажера, це просто вогонь, обожн...</td>\n",
       "      <td>Not_Toxic</td>\n",
       "    </tr>\n",
       "    <tr>\n",
       "      <td>836</td>\n",
       "      <td>Дякую за це відео. Воно надихає на дії</td>\n",
       "      <td>Not_Toxic</td>\n",
       "    </tr>\n",
       "    <tr>\n",
       "      <td>795</td>\n",
       "      <td>Добрий день! Чи немає у Вас PayPal аккаунта? Б...</td>\n",
       "      <td>Not_Toxic</td>\n",
       "    </tr>\n",
       "    <tr>\n",
       "      <td>523</td>\n",
       "      <td>48:40 їй посрати на все, окрім того що їй напІ...</td>\n",
       "      <td>Toxic</td>\n",
       "    </tr>\n",
       "  </tbody>\n",
       "</table>\n",
       "<p>1163 rows × 2 columns</p>\n",
       "</div>"
      ],
      "text/plain": [
       "                                                Comment   Category\n",
       "553   Шоу для недалеких. Нас у школі вчили зовсім ін...      Toxic\n",
       "1001          Добрий вечір.Ірпінь, будь ласка, гляньте.  Not_Toxic\n",
       "598                         Яка ж крінжуха, шоу відстій      Toxic\n",
       "1108  Потрібно \"Коли ми вдома\" перекладати та продав...  Not_Toxic\n",
       "378       привіт, новий підписчи, виглядаєш дуже жіночо  Not_Toxic\n",
       "...                                                 ...        ...\n",
       "899   Super. Дуже чудовий дует.\\nДякую за гарний нас...  Not_Toxic\n",
       "890   Бережи Боже монтажера, це просто вогонь, обожн...  Not_Toxic\n",
       "836             Дякую за це відео. Воно надихає на дії   Not_Toxic\n",
       "795   Добрий день! Чи немає у Вас PayPal аккаунта? Б...  Not_Toxic\n",
       "523   48:40 їй посрати на все, окрім того що їй напІ...      Toxic\n",
       "\n",
       "[1163 rows x 2 columns]"
      ]
     },
     "execution_count": 59,
     "metadata": {},
     "output_type": "execute_result"
    }
   ],
   "source": [
    "df = pd.read_excel('C:/Users/helen/OneDrive/Рабочий стол/пары/NLP_all.xlsx')\n",
    "df = df.sample(frac=1) \n",
    "df"
   ]
  },
  {
   "cell_type": "code",
   "execution_count": 60,
   "metadata": {},
   "outputs": [],
   "source": [
    "df_train = df.iloc [:round(df.shape[0]*0.75)]\n",
    "df_test = df.iloc [round(df.shape[0]*0.75):]"
   ]
  },
  {
   "cell_type": "code",
   "execution_count": 61,
   "metadata": {},
   "outputs": [
    {
     "name": "stderr",
     "output_type": "stream",
     "text": [
      "C:\\Users\\helen\\Anaconda3\\lib\\site-packages\\ipykernel_launcher.py:1: SettingWithCopyWarning: \n",
      "A value is trying to be set on a copy of a slice from a DataFrame.\n",
      "Try using .loc[row_indexer,col_indexer] = value instead\n",
      "\n",
      "See the caveats in the documentation: http://pandas.pydata.org/pandas-docs/stable/user_guide/indexing.html#returning-a-view-versus-a-copy\n",
      "  \"\"\"Entry point for launching an IPython kernel.\n",
      "C:\\Users\\helen\\Anaconda3\\lib\\site-packages\\ipykernel_launcher.py:2: SettingWithCopyWarning: \n",
      "A value is trying to be set on a copy of a slice from a DataFrame.\n",
      "Try using .loc[row_indexer,col_indexer] = value instead\n",
      "\n",
      "See the caveats in the documentation: http://pandas.pydata.org/pandas-docs/stable/user_guide/indexing.html#returning-a-view-versus-a-copy\n",
      "  \n"
     ]
    }
   ],
   "source": [
    "df_train['ClearText'] = df_train.apply(lambda x: ClearText(x['Comment']), axis=1)\n",
    "df_test['ClearText'] = df_test.apply(lambda x: ClearText(x['Comment']), axis=1)"
   ]
  },
  {
   "cell_type": "code",
   "execution_count": 27,
   "metadata": {},
   "outputs": [
    {
     "data": {
      "text/html": [
       "<div>\n",
       "<style scoped>\n",
       "    .dataframe tbody tr th:only-of-type {\n",
       "        vertical-align: middle;\n",
       "    }\n",
       "\n",
       "    .dataframe tbody tr th {\n",
       "        vertical-align: top;\n",
       "    }\n",
       "\n",
       "    .dataframe thead th {\n",
       "        text-align: right;\n",
       "    }\n",
       "</style>\n",
       "<table border=\"1\" class=\"dataframe\">\n",
       "  <thead>\n",
       "    <tr style=\"text-align: right;\">\n",
       "      <th></th>\n",
       "      <th>Comment</th>\n",
       "      <th>Category</th>\n",
       "      <th>ClearText</th>\n",
       "    </tr>\n",
       "  </thead>\n",
       "  <tbody>\n",
       "    <tr>\n",
       "      <td>869</td>\n",
       "      <td>Світлана дуже позитивна і щаслива. Мрії збуваю...</td>\n",
       "      <td>Not_Toxic</td>\n",
       "      <td>Світлана позитивний щасливий мрія збуваються о...</td>\n",
       "    </tr>\n",
       "    <tr>\n",
       "      <td>168</td>\n",
       "      <td>кузьма разом з притулою точно б зібрали на яде...</td>\n",
       "      <td>Not_Toxic</td>\n",
       "      <td>Кузьма раз притулою точно зібрати ядерний бомба</td>\n",
       "    </tr>\n",
       "    <tr>\n",
       "      <td>160</td>\n",
       "      <td>Світла память.</td>\n",
       "      <td>Not_Toxic</td>\n",
       "      <td>світло память</td>\n",
       "    </tr>\n",
       "    <tr>\n",
       "      <td>1088</td>\n",
       "      <td>Ви несповна розуму....</td>\n",
       "      <td>Toxic</td>\n",
       "      <td>несповна розум</td>\n",
       "    </tr>\n",
       "    <tr>\n",
       "      <td>14</td>\n",
       "      <td>Будь-який коментар :)</td>\n",
       "      <td>Not_Toxic</td>\n",
       "      <td>коментар</td>\n",
       "    </tr>\n",
       "    <tr>\n",
       "      <td>...</td>\n",
       "      <td>...</td>\n",
       "      <td>...</td>\n",
       "      <td>...</td>\n",
       "    </tr>\n",
       "    <tr>\n",
       "      <td>499</td>\n",
       "      <td>Все, що гарне у Львові, збудували поляки!</td>\n",
       "      <td>Toxic</td>\n",
       "      <td>гарний Львів збудувати поляк</td>\n",
       "    </tr>\n",
       "    <tr>\n",
       "      <td>976</td>\n",
       "      <td>Дуже гарне відео ️</td>\n",
       "      <td>Not_Toxic</td>\n",
       "      <td>гарний відео</td>\n",
       "    </tr>\n",
       "    <tr>\n",
       "      <td>297</td>\n",
       "      <td>Супер супер супер класс</td>\n",
       "      <td>Not_Toxic</td>\n",
       "      <td>супер супер супер класс</td>\n",
       "    </tr>\n",
       "    <tr>\n",
       "      <td>379</td>\n",
       "      <td>Туреччина така ж, як і Росія, навіть гірша, ко...</td>\n",
       "      <td>Toxic</td>\n",
       "      <td>Туреччина росія гірший йтися злочин людяності ...</td>\n",
       "    </tr>\n",
       "    <tr>\n",
       "      <td>649</td>\n",
       "      <td>Лёша \\nЯ бажаю випуски бачити частіше ! Ти як ...</td>\n",
       "      <td>Not_Toxic</td>\n",
       "      <td>лёша бажати випуск бачити рідний війна день хо...</td>\n",
       "    </tr>\n",
       "  </tbody>\n",
       "</table>\n",
       "<p>330 rows × 3 columns</p>\n",
       "</div>"
      ],
      "text/plain": [
       "                                                Comment   Category  \\\n",
       "869   Світлана дуже позитивна і щаслива. Мрії збуваю...  Not_Toxic   \n",
       "168   кузьма разом з притулою точно б зібрали на яде...  Not_Toxic   \n",
       "160                                      Світла память.  Not_Toxic   \n",
       "1088                             Ви несповна розуму....      Toxic   \n",
       "14                                Будь-який коментар :)  Not_Toxic   \n",
       "...                                                 ...        ...   \n",
       "499           Все, що гарне у Львові, збудували поляки!      Toxic   \n",
       "976                                  Дуже гарне відео ️  Not_Toxic   \n",
       "297                             Супер супер супер класс  Not_Toxic   \n",
       "379   Туреччина така ж, як і Росія, навіть гірша, ко...      Toxic   \n",
       "649   Лёша \\nЯ бажаю випуски бачити частіше ! Ти як ...  Not_Toxic   \n",
       "\n",
       "                                              ClearText  \n",
       "869   Світлана позитивний щасливий мрія збуваються о...  \n",
       "168     Кузьма раз притулою точно зібрати ядерний бомба  \n",
       "160                                       світло память  \n",
       "1088                                     несповна розум  \n",
       "14                                             коментар  \n",
       "...                                                 ...  \n",
       "499                        гарний Львів збудувати поляк  \n",
       "976                                        гарний відео  \n",
       "297                             супер супер супер класс  \n",
       "379   Туреччина росія гірший йтися злочин людяності ...  \n",
       "649   лёша бажати випуск бачити рідний війна день хо...  \n",
       "\n",
       "[330 rows x 3 columns]"
      ]
     },
     "execution_count": 27,
     "metadata": {},
     "output_type": "execute_result"
    }
   ],
   "source": [
    "df_test"
   ]
  },
  {
   "cell_type": "code",
   "execution_count": 62,
   "metadata": {},
   "outputs": [],
   "source": [
    "count_vect = CountVectorizer()\n",
    "X_train_counts = count_vect.fit_transform(df_train['ClearText'])\n",
    "tfidf_transformer = TfidfTransformer()\n",
    "X_train_tfidf = tfidf_transformer.fit_transform(X_train_counts)"
   ]
  },
  {
   "cell_type": "markdown",
   "metadata": {},
   "source": [
    "# MultinomialNB"
   ]
  },
  {
   "cell_type": "code",
   "execution_count": 63,
   "metadata": {},
   "outputs": [],
   "source": [
    "text_clf = Pipeline([('vect', CountVectorizer()),\n",
    "                      ('tfidf', TfidfTransformer()),\n",
    "                      ('clf', MultinomialNB()),\n",
    "])\n",
    "text_clf = text_clf.fit(df_train['ClearText'], df_train['Category'])"
   ]
  },
  {
   "cell_type": "code",
   "execution_count": 64,
   "metadata": {},
   "outputs": [
    {
     "data": {
      "text/plain": [
       "0.6804123711340206"
      ]
     },
     "execution_count": 64,
     "metadata": {},
     "output_type": "execute_result"
    }
   ],
   "source": [
    "predicted = text_clf.predict(df_test['ClearText'])\n",
    "np.mean(predicted == df_test['Category'])"
   ]
  },
  {
   "cell_type": "markdown",
   "metadata": {},
   "source": [
    "# SVM"
   ]
  },
  {
   "cell_type": "code",
   "execution_count": 65,
   "metadata": {},
   "outputs": [],
   "source": [
    "text_clf_svm = Pipeline([('vect', CountVectorizer()),\n",
    "                      ('tfidf', TfidfTransformer()),\n",
    "                      ('clf-svm', SGDClassifier(loss='hinge', penalty='l2', alpha=1e-3,  random_state=42)),\n",
    "])\n",
    "train_svm = text_clf_svm.fit(df_train['ClearText'], df_train['Category'])"
   ]
  },
  {
   "cell_type": "code",
   "execution_count": 66,
   "metadata": {},
   "outputs": [
    {
     "data": {
      "text/plain": [
       "0.718213058419244"
      ]
     },
     "execution_count": 66,
     "metadata": {},
     "output_type": "execute_result"
    }
   ],
   "source": [
    "predicted_svm = text_clf_svm.predict(df_test['ClearText'])\n",
    "np.mean(predicted_svm == df_test['Category'])"
   ]
  },
  {
   "cell_type": "code",
   "execution_count": 67,
   "metadata": {},
   "outputs": [
    {
     "data": {
      "text/plain": [
       "array(['Not_Toxic', 'Not_Toxic', 'Toxic', 'Not_Toxic', 'Not_Toxic',\n",
       "       'Not_Toxic', 'Not_Toxic', 'Toxic', 'Not_Toxic', 'Toxic',\n",
       "       'Not_Toxic', 'Not_Toxic', 'Toxic', 'Toxic', 'Not_Toxic',\n",
       "       'Not_Toxic', 'Not_Toxic', 'Toxic', 'Not_Toxic', 'Not_Toxic',\n",
       "       'Not_Toxic', 'Not_Toxic', 'Not_Toxic', 'Not_Toxic', 'Not_Toxic',\n",
       "       'Not_Toxic', 'Not_Toxic', 'Not_Toxic', 'Toxic', 'Not_Toxic',\n",
       "       'Not_Toxic', 'Not_Toxic', 'Not_Toxic', 'Not_Toxic', 'Toxic',\n",
       "       'Not_Toxic', 'Not_Toxic', 'Toxic', 'Not_Toxic', 'Toxic',\n",
       "       'Not_Toxic', 'Not_Toxic', 'Toxic', 'Not_Toxic', 'Not_Toxic',\n",
       "       'Not_Toxic', 'Not_Toxic', 'Not_Toxic', 'Not_Toxic', 'Toxic',\n",
       "       'Not_Toxic', 'Not_Toxic', 'Not_Toxic', 'Not_Toxic', 'Not_Toxic',\n",
       "       'Not_Toxic', 'Not_Toxic', 'Not_Toxic', 'Not_Toxic', 'Not_Toxic',\n",
       "       'Toxic', 'Not_Toxic', 'Toxic', 'Toxic', 'Not_Toxic', 'Toxic',\n",
       "       'Not_Toxic', 'Not_Toxic', 'Not_Toxic', 'Not_Toxic', 'Not_Toxic',\n",
       "       'Toxic', 'Not_Toxic', 'Not_Toxic', 'Toxic', 'Not_Toxic', 'Toxic',\n",
       "       'Not_Toxic', 'Not_Toxic', 'Not_Toxic', 'Not_Toxic', 'Not_Toxic',\n",
       "       'Not_Toxic', 'Not_Toxic', 'Not_Toxic', 'Not_Toxic', 'Not_Toxic',\n",
       "       'Not_Toxic', 'Not_Toxic', 'Not_Toxic', 'Not_Toxic', 'Not_Toxic',\n",
       "       'Not_Toxic', 'Not_Toxic', 'Not_Toxic', 'Not_Toxic', 'Toxic',\n",
       "       'Not_Toxic', 'Not_Toxic', 'Not_Toxic', 'Toxic', 'Not_Toxic',\n",
       "       'Not_Toxic', 'Not_Toxic', 'Toxic', 'Not_Toxic', 'Not_Toxic',\n",
       "       'Toxic', 'Toxic', 'Toxic', 'Not_Toxic', 'Toxic', 'Not_Toxic',\n",
       "       'Not_Toxic', 'Not_Toxic', 'Not_Toxic', 'Not_Toxic', 'Not_Toxic',\n",
       "       'Toxic', 'Not_Toxic', 'Not_Toxic', 'Toxic', 'Not_Toxic',\n",
       "       'Not_Toxic', 'Not_Toxic', 'Toxic', 'Toxic', 'Not_Toxic',\n",
       "       'Not_Toxic', 'Not_Toxic', 'Toxic', 'Not_Toxic', 'Not_Toxic',\n",
       "       'Not_Toxic', 'Not_Toxic', 'Not_Toxic', 'Not_Toxic', 'Not_Toxic',\n",
       "       'Toxic', 'Not_Toxic', 'Not_Toxic', 'Toxic', 'Not_Toxic',\n",
       "       'Not_Toxic', 'Toxic', 'Not_Toxic', 'Not_Toxic', 'Not_Toxic',\n",
       "       'Not_Toxic', 'Toxic', 'Not_Toxic', 'Not_Toxic', 'Toxic',\n",
       "       'Not_Toxic', 'Not_Toxic', 'Not_Toxic', 'Not_Toxic', 'Not_Toxic',\n",
       "       'Not_Toxic', 'Not_Toxic', 'Not_Toxic', 'Not_Toxic', 'Not_Toxic',\n",
       "       'Toxic', 'Not_Toxic', 'Toxic', 'Not_Toxic', 'Not_Toxic',\n",
       "       'Not_Toxic', 'Not_Toxic', 'Not_Toxic', 'Not_Toxic', 'Not_Toxic',\n",
       "       'Not_Toxic', 'Not_Toxic', 'Not_Toxic', 'Not_Toxic', 'Toxic',\n",
       "       'Not_Toxic', 'Not_Toxic', 'Not_Toxic', 'Not_Toxic', 'Not_Toxic',\n",
       "       'Not_Toxic', 'Not_Toxic', 'Not_Toxic', 'Not_Toxic', 'Not_Toxic',\n",
       "       'Not_Toxic', 'Not_Toxic', 'Not_Toxic', 'Toxic', 'Not_Toxic',\n",
       "       'Not_Toxic', 'Not_Toxic', 'Not_Toxic', 'Not_Toxic', 'Toxic',\n",
       "       'Not_Toxic', 'Not_Toxic', 'Not_Toxic', 'Not_Toxic', 'Not_Toxic',\n",
       "       'Not_Toxic', 'Not_Toxic', 'Toxic', 'Not_Toxic', 'Not_Toxic',\n",
       "       'Not_Toxic', 'Toxic', 'Not_Toxic', 'Not_Toxic', 'Not_Toxic',\n",
       "       'Not_Toxic', 'Toxic', 'Not_Toxic', 'Not_Toxic', 'Not_Toxic',\n",
       "       'Toxic', 'Not_Toxic', 'Not_Toxic', 'Not_Toxic', 'Not_Toxic',\n",
       "       'Not_Toxic', 'Toxic', 'Toxic', 'Not_Toxic', 'Not_Toxic', 'Toxic',\n",
       "       'Not_Toxic', 'Not_Toxic', 'Not_Toxic', 'Toxic', 'Toxic', 'Toxic',\n",
       "       'Not_Toxic', 'Not_Toxic', 'Not_Toxic', 'Not_Toxic', 'Toxic',\n",
       "       'Toxic', 'Not_Toxic', 'Not_Toxic', 'Not_Toxic', 'Not_Toxic',\n",
       "       'Toxic', 'Not_Toxic', 'Not_Toxic', 'Toxic', 'Not_Toxic',\n",
       "       'Not_Toxic', 'Not_Toxic', 'Not_Toxic', 'Not_Toxic', 'Not_Toxic',\n",
       "       'Not_Toxic', 'Not_Toxic', 'Not_Toxic', 'Not_Toxic', 'Toxic',\n",
       "       'Not_Toxic', 'Not_Toxic', 'Not_Toxic', 'Not_Toxic', 'Not_Toxic',\n",
       "       'Not_Toxic', 'Not_Toxic', 'Not_Toxic', 'Not_Toxic', 'Not_Toxic',\n",
       "       'Not_Toxic', 'Not_Toxic', 'Not_Toxic', 'Not_Toxic', 'Not_Toxic',\n",
       "       'Not_Toxic', 'Not_Toxic', 'Toxic', 'Not_Toxic', 'Not_Toxic',\n",
       "       'Not_Toxic', 'Not_Toxic', 'Not_Toxic', 'Not_Toxic', 'Not_Toxic',\n",
       "       'Not_Toxic', 'Not_Toxic', 'Not_Toxic', 'Not_Toxic', 'Not_Toxic',\n",
       "       'Not_Toxic'], dtype='<U9')"
      ]
     },
     "execution_count": 67,
     "metadata": {},
     "output_type": "execute_result"
    }
   ],
   "source": [
    "predicted_svm"
   ]
  },
  {
   "cell_type": "markdown",
   "metadata": {},
   "source": [
    "# LogisticRegression"
   ]
  },
  {
   "cell_type": "code",
   "execution_count": 68,
   "metadata": {},
   "outputs": [
    {
     "name": "stdout",
     "output_type": "stream",
     "text": [
      "[LibLinear]"
     ]
    }
   ],
   "source": [
    "text_clf_log_reg = Pipeline([('vect', CountVectorizer()),\n",
    "                      ('tfidf', TfidfTransformer()),\n",
    "                      ('clf-svm', LogisticRegression(verbose=1, solver='liblinear',random_state=0, C=5, penalty='l2',max_iter=1000)),\n",
    "])\n",
    "train_log_reg = text_clf_log_reg.fit(df_train['ClearText'], df_train['Category'])"
   ]
  },
  {
   "cell_type": "code",
   "execution_count": 72,
   "metadata": {},
   "outputs": [
    {
     "data": {
      "text/plain": [
       "0.7250859106529209"
      ]
     },
     "execution_count": 72,
     "metadata": {},
     "output_type": "execute_result"
    }
   ],
   "source": [
    "predicted_log_reg = text_clf_log_reg.predict(df_test['ClearText'])\n",
    "np.mean(predicted_log_reg == df_test['Category'])"
   ]
  },
  {
   "cell_type": "code",
   "execution_count": 70,
   "metadata": {},
   "outputs": [
    {
     "data": {
      "text/plain": [
       "array(['Not_Toxic', 'Not_Toxic', 'Toxic', 'Toxic', 'Not_Toxic',\n",
       "       'Not_Toxic', 'Not_Toxic', 'Toxic', 'Not_Toxic', 'Toxic',\n",
       "       'Not_Toxic', 'Not_Toxic', 'Toxic', 'Toxic', 'Not_Toxic',\n",
       "       'Not_Toxic', 'Not_Toxic', 'Not_Toxic', 'Not_Toxic', 'Not_Toxic',\n",
       "       'Not_Toxic', 'Not_Toxic', 'Not_Toxic', 'Not_Toxic', 'Not_Toxic',\n",
       "       'Not_Toxic', 'Not_Toxic', 'Not_Toxic', 'Toxic', 'Not_Toxic',\n",
       "       'Not_Toxic', 'Not_Toxic', 'Not_Toxic', 'Not_Toxic', 'Toxic',\n",
       "       'Not_Toxic', 'Not_Toxic', 'Toxic', 'Not_Toxic', 'Toxic',\n",
       "       'Not_Toxic', 'Not_Toxic', 'Toxic', 'Not_Toxic', 'Not_Toxic',\n",
       "       'Not_Toxic', 'Not_Toxic', 'Not_Toxic', 'Not_Toxic', 'Toxic',\n",
       "       'Not_Toxic', 'Not_Toxic', 'Not_Toxic', 'Not_Toxic', 'Not_Toxic',\n",
       "       'Not_Toxic', 'Not_Toxic', 'Not_Toxic', 'Not_Toxic', 'Not_Toxic',\n",
       "       'Toxic', 'Not_Toxic', 'Toxic', 'Toxic', 'Not_Toxic', 'Toxic',\n",
       "       'Not_Toxic', 'Not_Toxic', 'Not_Toxic', 'Not_Toxic', 'Not_Toxic',\n",
       "       'Toxic', 'Not_Toxic', 'Not_Toxic', 'Toxic', 'Not_Toxic', 'Toxic',\n",
       "       'Not_Toxic', 'Not_Toxic', 'Not_Toxic', 'Not_Toxic', 'Not_Toxic',\n",
       "       'Not_Toxic', 'Not_Toxic', 'Not_Toxic', 'Not_Toxic', 'Not_Toxic',\n",
       "       'Not_Toxic', 'Not_Toxic', 'Not_Toxic', 'Not_Toxic', 'Not_Toxic',\n",
       "       'Not_Toxic', 'Not_Toxic', 'Not_Toxic', 'Not_Toxic', 'Toxic',\n",
       "       'Not_Toxic', 'Not_Toxic', 'Not_Toxic', 'Toxic', 'Not_Toxic',\n",
       "       'Toxic', 'Not_Toxic', 'Not_Toxic', 'Not_Toxic', 'Not_Toxic',\n",
       "       'Toxic', 'Toxic', 'Not_Toxic', 'Not_Toxic', 'Toxic', 'Not_Toxic',\n",
       "       'Not_Toxic', 'Not_Toxic', 'Not_Toxic', 'Not_Toxic', 'Not_Toxic',\n",
       "       'Not_Toxic', 'Not_Toxic', 'Not_Toxic', 'Toxic', 'Not_Toxic',\n",
       "       'Not_Toxic', 'Not_Toxic', 'Toxic', 'Toxic', 'Not_Toxic',\n",
       "       'Not_Toxic', 'Not_Toxic', 'Toxic', 'Not_Toxic', 'Not_Toxic',\n",
       "       'Not_Toxic', 'Not_Toxic', 'Not_Toxic', 'Not_Toxic', 'Not_Toxic',\n",
       "       'Toxic', 'Not_Toxic', 'Not_Toxic', 'Not_Toxic', 'Not_Toxic',\n",
       "       'Not_Toxic', 'Toxic', 'Not_Toxic', 'Not_Toxic', 'Not_Toxic',\n",
       "       'Not_Toxic', 'Toxic', 'Not_Toxic', 'Not_Toxic', 'Toxic',\n",
       "       'Not_Toxic', 'Not_Toxic', 'Not_Toxic', 'Not_Toxic', 'Not_Toxic',\n",
       "       'Not_Toxic', 'Not_Toxic', 'Not_Toxic', 'Not_Toxic', 'Not_Toxic',\n",
       "       'Toxic', 'Not_Toxic', 'Toxic', 'Not_Toxic', 'Not_Toxic',\n",
       "       'Not_Toxic', 'Not_Toxic', 'Not_Toxic', 'Not_Toxic', 'Not_Toxic',\n",
       "       'Not_Toxic', 'Not_Toxic', 'Not_Toxic', 'Not_Toxic', 'Toxic',\n",
       "       'Not_Toxic', 'Not_Toxic', 'Not_Toxic', 'Not_Toxic', 'Not_Toxic',\n",
       "       'Not_Toxic', 'Not_Toxic', 'Not_Toxic', 'Not_Toxic', 'Toxic',\n",
       "       'Not_Toxic', 'Not_Toxic', 'Not_Toxic', 'Toxic', 'Not_Toxic',\n",
       "       'Not_Toxic', 'Not_Toxic', 'Not_Toxic', 'Not_Toxic', 'Toxic',\n",
       "       'Not_Toxic', 'Not_Toxic', 'Not_Toxic', 'Not_Toxic', 'Not_Toxic',\n",
       "       'Not_Toxic', 'Not_Toxic', 'Toxic', 'Not_Toxic', 'Not_Toxic',\n",
       "       'Not_Toxic', 'Toxic', 'Not_Toxic', 'Not_Toxic', 'Not_Toxic',\n",
       "       'Not_Toxic', 'Toxic', 'Not_Toxic', 'Not_Toxic', 'Not_Toxic',\n",
       "       'Toxic', 'Not_Toxic', 'Not_Toxic', 'Not_Toxic', 'Not_Toxic',\n",
       "       'Not_Toxic', 'Toxic', 'Toxic', 'Not_Toxic', 'Not_Toxic', 'Toxic',\n",
       "       'Not_Toxic', 'Not_Toxic', 'Not_Toxic', 'Not_Toxic', 'Not_Toxic',\n",
       "       'Toxic', 'Not_Toxic', 'Not_Toxic', 'Not_Toxic', 'Not_Toxic',\n",
       "       'Toxic', 'Toxic', 'Not_Toxic', 'Not_Toxic', 'Not_Toxic',\n",
       "       'Not_Toxic', 'Toxic', 'Not_Toxic', 'Not_Toxic', 'Toxic',\n",
       "       'Not_Toxic', 'Not_Toxic', 'Not_Toxic', 'Not_Toxic', 'Not_Toxic',\n",
       "       'Not_Toxic', 'Not_Toxic', 'Not_Toxic', 'Not_Toxic', 'Not_Toxic',\n",
       "       'Toxic', 'Not_Toxic', 'Not_Toxic', 'Not_Toxic', 'Not_Toxic',\n",
       "       'Not_Toxic', 'Not_Toxic', 'Not_Toxic', 'Not_Toxic', 'Not_Toxic',\n",
       "       'Not_Toxic', 'Not_Toxic', 'Not_Toxic', 'Not_Toxic', 'Not_Toxic',\n",
       "       'Not_Toxic', 'Not_Toxic', 'Not_Toxic', 'Toxic', 'Not_Toxic',\n",
       "       'Not_Toxic', 'Not_Toxic', 'Not_Toxic', 'Not_Toxic', 'Not_Toxic',\n",
       "       'Not_Toxic', 'Not_Toxic', 'Not_Toxic', 'Not_Toxic', 'Not_Toxic',\n",
       "       'Not_Toxic', 'Not_Toxic'], dtype=object)"
      ]
     },
     "execution_count": 70,
     "metadata": {},
     "output_type": "execute_result"
    }
   ],
   "source": [
    "predicted_log_reg"
   ]
  },
  {
   "cell_type": "code",
   "execution_count": 88,
   "metadata": {},
   "outputs": [
    {
     "data": {
      "text/html": [
       "<div>\n",
       "<style scoped>\n",
       "    .dataframe tbody tr th:only-of-type {\n",
       "        vertical-align: middle;\n",
       "    }\n",
       "\n",
       "    .dataframe tbody tr th {\n",
       "        vertical-align: top;\n",
       "    }\n",
       "\n",
       "    .dataframe thead th {\n",
       "        text-align: right;\n",
       "    }\n",
       "</style>\n",
       "<table border=\"1\" class=\"dataframe\">\n",
       "  <thead>\n",
       "    <tr style=\"text-align: right;\">\n",
       "      <th></th>\n",
       "      <th>predictions</th>\n",
       "      <th>Comment</th>\n",
       "      <th>Category</th>\n",
       "      <th>ClearText</th>\n",
       "    </tr>\n",
       "  </thead>\n",
       "  <tbody>\n",
       "    <tr>\n",
       "      <td>0</td>\n",
       "      <td>Not_Toxic</td>\n",
       "      <td>ПАРАША ЗІ СМАКОМ СОЛЯРКИ ..І ГУМОР НИЖЧЕ ПЛІНТ...</td>\n",
       "      <td>Toxic</td>\n",
       "      <td>параша смак солярки гумор плінтуса</td>\n",
       "    </tr>\n",
       "    <tr>\n",
       "      <td>1</td>\n",
       "      <td>Not_Toxic</td>\n",
       "      <td>Світла пам'ять Руслані Писанки</td>\n",
       "      <td>Not_Toxic</td>\n",
       "      <td>світло пам'ять Руслана писанка</td>\n",
       "    </tr>\n",
       "    <tr>\n",
       "      <td>2</td>\n",
       "      <td>Toxic</td>\n",
       "      <td>Складно мені повірити, що щось зміниться</td>\n",
       "      <td>Toxic</td>\n",
       "      <td>складно повірити щось змінитися</td>\n",
       "    </tr>\n",
       "    <tr>\n",
       "      <td>3</td>\n",
       "      <td>Toxic</td>\n",
       "      <td>Серёжа,розкажи як ты Людину ножом зарізав?</td>\n",
       "      <td>Toxic</td>\n",
       "      <td>серёжа розказати людина ножом зарізати</td>\n",
       "    </tr>\n",
       "    <tr>\n",
       "      <td>4</td>\n",
       "      <td>Not_Toxic</td>\n",
       "      <td>Коли Садовий фасади поремонтує тих обдертих бу...</td>\n",
       "      <td>Toxic</td>\n",
       "      <td>садовий фасад поремонтує обдертих будинкiв</td>\n",
       "    </tr>\n",
       "    <tr>\n",
       "      <td>...</td>\n",
       "      <td>...</td>\n",
       "      <td>...</td>\n",
       "      <td>...</td>\n",
       "      <td>...</td>\n",
       "    </tr>\n",
       "    <tr>\n",
       "      <td>286</td>\n",
       "      <td>Not_Toxic</td>\n",
       "      <td>Super. Дуже чудовий дует.\\nДякую за гарний нас...</td>\n",
       "      <td>Not_Toxic</td>\n",
       "      <td>super чудовий дует \\nдякую гарний настрій \\nслава</td>\n",
       "    </tr>\n",
       "    <tr>\n",
       "      <td>287</td>\n",
       "      <td>Not_Toxic</td>\n",
       "      <td>Бережи Боже монтажера, це просто вогонь, обожн...</td>\n",
       "      <td>Not_Toxic</td>\n",
       "      <td>берегти бог монтажера вогонь обожнюю</td>\n",
       "    </tr>\n",
       "    <tr>\n",
       "      <td>288</td>\n",
       "      <td>Not_Toxic</td>\n",
       "      <td>Дякую за це відео. Воно надихає на дії</td>\n",
       "      <td>Not_Toxic</td>\n",
       "      <td>відео надихає</td>\n",
       "    </tr>\n",
       "    <tr>\n",
       "      <td>289</td>\n",
       "      <td>Not_Toxic</td>\n",
       "      <td>Добрий день! Чи немає у Вас PayPal аккаунта? Б...</td>\n",
       "      <td>Not_Toxic</td>\n",
       "      <td>добрити paypal аккаунта зручно скинути гроші</td>\n",
       "    </tr>\n",
       "    <tr>\n",
       "      <td>290</td>\n",
       "      <td>Not_Toxic</td>\n",
       "      <td>48:40 їй посрати на все, окрім того що їй напІ...</td>\n",
       "      <td>Toxic</td>\n",
       "      <td>посрати окрім напісивают</td>\n",
       "    </tr>\n",
       "  </tbody>\n",
       "</table>\n",
       "<p>291 rows × 4 columns</p>\n",
       "</div>"
      ],
      "text/plain": [
       "    predictions                                            Comment   Category  \\\n",
       "0     Not_Toxic  ПАРАША ЗІ СМАКОМ СОЛЯРКИ ..І ГУМОР НИЖЧЕ ПЛІНТ...      Toxic   \n",
       "1     Not_Toxic                     Світла пам'ять Руслані Писанки  Not_Toxic   \n",
       "2         Toxic           Складно мені повірити, що щось зміниться      Toxic   \n",
       "3         Toxic         Серёжа,розкажи як ты Людину ножом зарізав?      Toxic   \n",
       "4     Not_Toxic  Коли Садовий фасади поремонтує тих обдертих бу...      Toxic   \n",
       "..          ...                                                ...        ...   \n",
       "286   Not_Toxic  Super. Дуже чудовий дует.\\nДякую за гарний нас...  Not_Toxic   \n",
       "287   Not_Toxic  Бережи Боже монтажера, це просто вогонь, обожн...  Not_Toxic   \n",
       "288   Not_Toxic            Дякую за це відео. Воно надихає на дії   Not_Toxic   \n",
       "289   Not_Toxic  Добрий день! Чи немає у Вас PayPal аккаунта? Б...  Not_Toxic   \n",
       "290   Not_Toxic  48:40 їй посрати на все, окрім того що їй напІ...      Toxic   \n",
       "\n",
       "                                             ClearText  \n",
       "0                   параша смак солярки гумор плінтуса  \n",
       "1                       світло пам'ять Руслана писанка  \n",
       "2                      складно повірити щось змінитися  \n",
       "3               серёжа розказати людина ножом зарізати  \n",
       "4           садовий фасад поремонтує обдертих будинкiв  \n",
       "..                                                 ...  \n",
       "286  super чудовий дует \\nдякую гарний настрій \\nслава  \n",
       "287               берегти бог монтажера вогонь обожнюю  \n",
       "288                                      відео надихає  \n",
       "289       добрити paypal аккаунта зручно скинути гроші  \n",
       "290                           посрати окрім напісивают  \n",
       "\n",
       "[291 rows x 4 columns]"
      ]
     },
     "execution_count": 88,
     "metadata": {},
     "output_type": "execute_result"
    }
   ],
   "source": [
    "predicted_log_reg_df = pd.DataFrame(predicted_log_reg, columns=['predictions'])\n",
    "df_test.index = range(0, df_test.shape[0])\n",
    "result = pd.concat([predicted_log_reg_df, df_test], axis=1)\n",
    "result.to_csv('C:/Users/helen/OneDrive/Рабочий стол/пары/prediction.csv')\n",
    "result"
   ]
  },
  {
   "cell_type": "code",
   "execution_count": 84,
   "metadata": {},
   "outputs": [],
   "source": []
  }
 ],
 "metadata": {
  "kernelspec": {
   "display_name": "Python 3",
   "language": "python",
   "name": "python3"
  },
  "language_info": {
   "codemirror_mode": {
    "name": "ipython",
    "version": 3
   },
   "file_extension": ".py",
   "mimetype": "text/x-python",
   "name": "python",
   "nbconvert_exporter": "python",
   "pygments_lexer": "ipython3",
   "version": "3.7.4"
  }
 },
 "nbformat": 4,
 "nbformat_minor": 2
}

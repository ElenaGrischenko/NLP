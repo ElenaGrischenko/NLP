{
 "cells": [
  {
   "cell_type": "code",
   "execution_count": 1,
   "metadata": {},
   "outputs": [],
   "source": [
    "import re\n",
    "import pandas as pd\n",
    "import numpy as np\n",
    "import simplemma\n",
    "from stop_words import get_stop_words\n",
    "from sklearn.feature_extraction.text import TfidfVectorizer\n",
    "from sklearn.feature_extraction.text import TfidfTransformer\n",
    "from sklearn.feature_extraction.text import CountVectorizer\n",
    "from sklearn.naive_bayes import MultinomialNB\n",
    "from sklearn.pipeline import Pipeline\n",
    "from sklearn.linear_model import SGDClassifier\n",
    "from sklearn.linear_model import LogisticRegression"
   ]
  },
  {
   "cell_type": "code",
   "execution_count": 2,
   "metadata": {},
   "outputs": [],
   "source": [
    "stop_words = get_stop_words('uk')"
   ]
  },
  {
   "cell_type": "code",
   "execution_count": 3,
   "metadata": {},
   "outputs": [],
   "source": [
    "#попередня обробка тексту\n",
    "def ClearText(text):\n",
    "    #переведення до нижнього регістру всіх слів\n",
    "    cleartext = text.lower()\n",
    "    #print(cleartext)\n",
    "    #прибирання пустих рядків та розрив рядків\n",
    "    cleartext = re.sub('\\-\\s\\r\\n\\s{1,}|\\-\\s\\r\\n|\\r\\n', '', cleartext) \n",
    "    #залишаємо лише слова, прибираємо пунктуацію та числа\n",
    "    cleartext = re.sub('[.,:;_%©?*,!@#$%^&()\\d]|[+=]|[[]|[]]|[/]|\"|\\s{2,}|-', ' ', cleartext) #deleting symbols  \n",
    "    #cleartext = cleartext.translate(remove_digits)\n",
    "    cleartext = cleartext.replace(\"\\\\\", \"\")\n",
    "    cleartext = cleartext.rstrip()\n",
    "    #прибираємо зайві пробіи\n",
    "    cleartext = re.sub(\" +\", \" \", cleartext)\n",
    "    #ділимо речення на список слів, розбиваємо по пробілам\n",
    "    cleartext = re.split(\" \", cleartext)\n",
    "    #прибираємо стопслова\n",
    "    cleartext = [word for word in cleartext if word not in stop_words]\n",
    "    #прибираємо слова, довжина який менше 3 букв\n",
    "    cleartext = [word for word in cleartext if len(word) > 3]\n",
    "    #лематизація слів\n",
    "    cleartext = [simplemma.lemmatize(word, lang='uk') for word in cleartext]\n",
    "    return ' '.join(cleartext)"
   ]
  },
  {
   "cell_type": "code",
   "execution_count": 4,
   "metadata": {},
   "outputs": [
    {
     "name": "stdout",
     "output_type": "stream",
     "text": [
      "['a', 'б', 'в', 'г', 'е', 'ж', 'з', 'м', 'т', 'у', 'я', 'є', 'і', 'аж', 'ви', 'де', 'до', 'за', 'зі', 'ми', 'на', 'не', 'ну', 'нх', 'ні', 'по', 'та', 'ти', 'то', 'ту', 'ті', 'це', 'цю', 'ця', 'ці', 'чи', 'ще', 'що', 'як', 'їй', 'їм', 'їх', 'її', 'або', 'але', 'ало', 'без', 'був', 'вам', 'вас', 'ваш', 'вже', 'все', 'всю', 'вся', 'від', 'він', 'два', 'дві', 'для', 'ким', 'мож', 'моя', 'моє', 'мої', 'міг', 'між', 'мій', 'над', 'нам', 'нас', 'наш', 'нею', 'неї', 'них', 'ніж', 'ній', 'ось', 'при', 'про', 'під', 'пір', 'раз', 'рік', 'сам', 'сих', 'сім', 'так', 'там', 'теж', 'тим', 'тих', 'той', 'тою', 'три', 'тут', 'хоч', 'хто', 'цей', 'цим', 'цих', 'час', 'щоб', 'яка', 'які', 'адже', 'буде', 'буду', 'будь', 'була', 'були', 'було', 'бути', 'вами', 'ваша', 'ваше', 'ваші', 'весь', 'вниз', 'вона', 'вони', 'воно', 'всею', 'всім', 'всіх', 'втім', 'геть', 'далі', 'двох', 'день', 'дуже', 'зате', 'його', 'йому', 'каже', 'кого', 'коли', 'кому', 'крім', 'куди', 'лише', 'люди', 'мало', 'мати', 'мене', 'мені', 'миру', 'мною', 'може', 'нами', 'наша', 'наше', 'наші', 'ними', 'ніби', 'один', 'поки', 'пора', 'рано', 'року', 'році', 'сама', 'саме', 'саму', 'самі', 'свою', 'своє', 'свої', 'себе', 'собі', 'став', 'суть', 'така', 'таке', 'такі', 'твоя', 'твоє', 'твій', 'тебе', 'тими', 'тобі', 'того', 'тоді', 'тому', 'туди', 'хоча', 'хіба', 'цими', 'цієї', 'часу', 'чого', 'чому', 'який', 'яких', 'якої', 'якщо', \"ім'я\", 'інша', 'інше', 'інші', 'буває', 'будеш', 'більш', 'вгору', 'вміти', 'внизу', 'вісім', 'давно', 'даром', 'добре', 'довго', 'друго', 'дякую', 'життя', 'зараз', 'знову', 'какая', 'кожен', 'кожна', 'кожне', 'кожні', 'краще', 'ледве', 'майже', 'менше', 'могти', 'можна', 'назад', 'немає', 'нижче', 'нього', 'однак', \"п'ять\", 'перед', 'поруч', 'потім', 'проти', 'після', 'років', 'самим', 'самих', 'самій', 'свого', 'своєї', 'своїх', 'собою', 'справ', 'такий', 'також', 'тепер', 'тисяч', 'тобою', 'треба', 'трохи', 'усюди', 'усіма', 'хочеш', 'цього', 'цьому', 'часто', 'через', 'шість', 'якого', 'іноді', 'інший', 'інших', 'багато', 'будемо', 'будете', 'будуть', 'більше', 'всього', 'всьому', 'далеко', 'десять', 'досить', 'другий', 'дійсно', 'завжди', 'звідси', 'зовсім', 'кругом', 'кілька', 'людина', 'можуть', 'навіть', 'навіщо', 'нагорі', 'небудь', 'низько', 'ніколи', 'нікуди', 'нічого', 'обидва', 'одного', 'однієї', \"п'ятий\", 'перший', 'просто', 'раніше', 'раптом', 'самими', 'самого', 'самому', 'сказав', 'скрізь', 'сьомий', 'третій', 'тільки', 'хотіти', 'чотири', 'чудово', 'шостий', 'близько', 'важлива', 'важливе', 'важливі', 'вдалині', 'восьмий', 'говорив', \"дев'ять\", 'десятий', 'зайнята', 'зайнято', 'зайняті', 'занадто', 'значить', 'навколо', 'нарешті', 'нерідко', 'повинно', 'посеред', 'початку', 'пізніше', 'сказала', 'сказати', 'скільки', 'спасибі', 'частіше', 'важливий', 'двадцять', \"дев'ятий\", 'зазвичай', 'зайнятий', 'звичайно', 'здається', 'найбільш', 'не можна', 'недалеко', 'особливо', 'потрібно', 'спочатку', 'сьогодні', 'численна', 'численне', 'численні', 'відсотків', 'двадцятий', 'звідусіль', 'мільйонів', 'нещодавно', 'прекрасно', 'четвертий', 'численний', 'будь ласка', 'дванадцять', 'одинадцять', 'сімнадцять', 'тринадцять', 'безперервно', 'дванадцятий', 'одинадцятий', 'одного разу', \"п'ятнадцять\", 'сімнадцятий', 'тринадцятий', 'шістнадцять', 'вісімнадцять', \"п'ятнадцятий\", 'чотирнадцять', 'шістнадцятий', 'вісімнадцятий', \"дев'ятнадцять\", 'чотирнадцятий', \"дев'ятнадцятий\"]\n"
     ]
    }
   ],
   "source": [
    "print(stop_words)"
   ]
  },
  {
   "cell_type": "code",
   "execution_count": 5,
   "metadata": {},
   "outputs": [
    {
     "data": {
      "text/html": [
       "<div>\n",
       "<style scoped>\n",
       "    .dataframe tbody tr th:only-of-type {\n",
       "        vertical-align: middle;\n",
       "    }\n",
       "\n",
       "    .dataframe tbody tr th {\n",
       "        vertical-align: top;\n",
       "    }\n",
       "\n",
       "    .dataframe thead th {\n",
       "        text-align: right;\n",
       "    }\n",
       "</style>\n",
       "<table border=\"1\" class=\"dataframe\">\n",
       "  <thead>\n",
       "    <tr style=\"text-align: right;\">\n",
       "      <th></th>\n",
       "      <th>Comment</th>\n",
       "      <th>Category</th>\n",
       "    </tr>\n",
       "  </thead>\n",
       "  <tbody>\n",
       "    <tr>\n",
       "      <td>0</td>\n",
       "      <td>Що вам найбільше сподобалося в перевтіленні Лю...</td>\n",
       "      <td>Not_Toxic</td>\n",
       "    </tr>\n",
       "    <tr>\n",
       "      <td>1</td>\n",
       "      <td>яка гарна родина, щастя вам))</td>\n",
       "      <td>Not_Toxic</td>\n",
       "    </tr>\n",
       "    <tr>\n",
       "      <td>2</td>\n",
       "      <td>Дякую команді за такий чудовий проєкт. На жаль...</td>\n",
       "      <td>Not_Toxic</td>\n",
       "    </tr>\n",
       "    <tr>\n",
       "      <td>3</td>\n",
       "      <td>Щодо танго не згодна. Виглядає так, наче Люда ...</td>\n",
       "      <td>Not_Toxic</td>\n",
       "    </tr>\n",
       "    <tr>\n",
       "      <td>4</td>\n",
       "      <td>Людмила дуже гарна жінка, їй дуже пасує жіночн...</td>\n",
       "      <td>Not_Toxic</td>\n",
       "    </tr>\n",
       "  </tbody>\n",
       "</table>\n",
       "</div>"
      ],
      "text/plain": [
       "                                             Comment   Category\n",
       "0  Що вам найбільше сподобалося в перевтіленні Лю...  Not_Toxic\n",
       "1                      яка гарна родина, щастя вам))  Not_Toxic\n",
       "2  Дякую команді за такий чудовий проєкт. На жаль...  Not_Toxic\n",
       "3  Щодо танго не згодна. Виглядає так, наче Люда ...  Not_Toxic\n",
       "4  Людмила дуже гарна жінка, їй дуже пасує жіночн...  Not_Toxic"
      ]
     },
     "execution_count": 5,
     "metadata": {},
     "output_type": "execute_result"
    }
   ],
   "source": [
    "df_train = pd.read_excel('C:/Users/helen/OneDrive/Рабочий стол/пары/NLP_train.xlsx')\n",
    "df_test = pd.read_excel('C:/Users/helen/OneDrive/Рабочий стол/пары/NLP_test.xlsx')\n",
    "df_train.head()"
   ]
  },
  {
   "cell_type": "code",
   "execution_count": 41,
   "metadata": {},
   "outputs": [
    {
     "data": {
      "text/html": [
       "<div>\n",
       "<style scoped>\n",
       "    .dataframe tbody tr th:only-of-type {\n",
       "        vertical-align: middle;\n",
       "    }\n",
       "\n",
       "    .dataframe tbody tr th {\n",
       "        vertical-align: top;\n",
       "    }\n",
       "\n",
       "    .dataframe thead th {\n",
       "        text-align: right;\n",
       "    }\n",
       "</style>\n",
       "<table border=\"1\" class=\"dataframe\">\n",
       "  <thead>\n",
       "    <tr style=\"text-align: right;\">\n",
       "      <th></th>\n",
       "      <th>Comment</th>\n",
       "      <th>Category</th>\n",
       "    </tr>\n",
       "  </thead>\n",
       "  <tbody>\n",
       "    <tr>\n",
       "      <td>934</td>\n",
       "      <td>Юначе, у Вас така милозву чна украинська мова,...</td>\n",
       "      <td>Not_Toxic</td>\n",
       "    </tr>\n",
       "    <tr>\n",
       "      <td>580</td>\n",
       "      <td>Вибачте, але івасі - це оселедець, оселедець т...</td>\n",
       "      <td>Not_Toxic</td>\n",
       "    </tr>\n",
       "    <tr>\n",
       "      <td>46</td>\n",
       "      <td>На обіцяли в ЄС, давайте спочатку в ЄС вступим...</td>\n",
       "      <td>Not_Toxic</td>\n",
       "    </tr>\n",
       "    <tr>\n",
       "      <td>162</td>\n",
       "      <td>Дякую!</td>\n",
       "      <td>Not_Toxic</td>\n",
       "    </tr>\n",
       "    <tr>\n",
       "      <td>991</td>\n",
       "      <td>А може не на часi розповiдати ?</td>\n",
       "      <td>Not_Toxic</td>\n",
       "    </tr>\n",
       "    <tr>\n",
       "      <td>...</td>\n",
       "      <td>...</td>\n",
       "      <td>...</td>\n",
       "    </tr>\n",
       "    <tr>\n",
       "      <td>97</td>\n",
       "      <td>Людмила чудова людина, має прикрасну сім'ю, чу...</td>\n",
       "      <td>Not_Toxic</td>\n",
       "    </tr>\n",
       "    <tr>\n",
       "      <td>428</td>\n",
       "      <td>Якщо приїхати до Львова росіянину, тебе не вб'...</td>\n",
       "      <td>Toxic</td>\n",
       "    </tr>\n",
       "    <tr>\n",
       "      <td>871</td>\n",
       "      <td>А чого позаду вас Маріуполь російською? Хлопці...</td>\n",
       "      <td>Toxic</td>\n",
       "    </tr>\n",
       "    <tr>\n",
       "      <td>698</td>\n",
       "      <td>Дякую за чудову мову, приємно слухать!</td>\n",
       "      <td>Not_Toxic</td>\n",
       "    </tr>\n",
       "    <tr>\n",
       "      <td>650</td>\n",
       "      <td>Не росте там. Тому сади не ростуть. \\nПросіть ...</td>\n",
       "      <td>Not_Toxic</td>\n",
       "    </tr>\n",
       "  </tbody>\n",
       "</table>\n",
       "<p>1163 rows × 2 columns</p>\n",
       "</div>"
      ],
      "text/plain": [
       "                                               Comment   Category\n",
       "934  Юначе, у Вас така милозву чна украинська мова,...  Not_Toxic\n",
       "580  Вибачте, але івасі - це оселедець, оселедець т...  Not_Toxic\n",
       "46   На обіцяли в ЄС, давайте спочатку в ЄС вступим...  Not_Toxic\n",
       "162                                             Дякую!  Not_Toxic\n",
       "991                    А може не на часi розповiдати ?  Not_Toxic\n",
       "..                                                 ...        ...\n",
       "97   Людмила чудова людина, має прикрасну сім'ю, чу...  Not_Toxic\n",
       "428  Якщо приїхати до Львова росіянину, тебе не вб'...      Toxic\n",
       "871  А чого позаду вас Маріуполь російською? Хлопці...      Toxic\n",
       "698             Дякую за чудову мову, приємно слухать!  Not_Toxic\n",
       "650  Не росте там. Тому сади не ростуть. \\nПросіть ...  Not_Toxic\n",
       "\n",
       "[1163 rows x 2 columns]"
      ]
     },
     "execution_count": 41,
     "metadata": {},
     "output_type": "execute_result"
    }
   ],
   "source": [
    "df = pd.read_excel('C:/Users/helen/OneDrive/Рабочий стол/пары/NLP_all.xlsx')\n",
    "df = df.sample(frac=1) \n",
    "df"
   ]
  },
  {
   "cell_type": "code",
   "execution_count": 42,
   "metadata": {},
   "outputs": [],
   "source": [
    "df_train = df.iloc [:round(df.shape[0]*0.75)]\n",
    "df_test = df.iloc [round(df.shape[0]*0.75):]"
   ]
  },
  {
   "cell_type": "code",
   "execution_count": 43,
   "metadata": {},
   "outputs": [
    {
     "name": "stderr",
     "output_type": "stream",
     "text": [
      "C:\\Users\\helen\\Anaconda3\\lib\\site-packages\\ipykernel_launcher.py:1: SettingWithCopyWarning: \n",
      "A value is trying to be set on a copy of a slice from a DataFrame.\n",
      "Try using .loc[row_indexer,col_indexer] = value instead\n",
      "\n",
      "See the caveats in the documentation: http://pandas.pydata.org/pandas-docs/stable/user_guide/indexing.html#returning-a-view-versus-a-copy\n",
      "  \"\"\"Entry point for launching an IPython kernel.\n",
      "C:\\Users\\helen\\Anaconda3\\lib\\site-packages\\ipykernel_launcher.py:2: SettingWithCopyWarning: \n",
      "A value is trying to be set on a copy of a slice from a DataFrame.\n",
      "Try using .loc[row_indexer,col_indexer] = value instead\n",
      "\n",
      "See the caveats in the documentation: http://pandas.pydata.org/pandas-docs/stable/user_guide/indexing.html#returning-a-view-versus-a-copy\n",
      "  \n"
     ]
    }
   ],
   "source": [
    "df_train['ClearText'] = df_train.apply(lambda x: ClearText(x['Comment']), axis=1)\n",
    "df_test['ClearText'] = df_test.apply(lambda x: ClearText(x['Comment']), axis=1)"
   ]
  },
  {
   "cell_type": "code",
   "execution_count": 13,
   "metadata": {},
   "outputs": [
    {
     "data": {
      "text/html": [
       "<div>\n",
       "<style scoped>\n",
       "    .dataframe tbody tr th:only-of-type {\n",
       "        vertical-align: middle;\n",
       "    }\n",
       "\n",
       "    .dataframe tbody tr th {\n",
       "        vertical-align: top;\n",
       "    }\n",
       "\n",
       "    .dataframe thead th {\n",
       "        text-align: right;\n",
       "    }\n",
       "</style>\n",
       "<table border=\"1\" class=\"dataframe\">\n",
       "  <thead>\n",
       "    <tr style=\"text-align: right;\">\n",
       "      <th></th>\n",
       "      <th>Comment</th>\n",
       "      <th>Category</th>\n",
       "      <th>ClearText</th>\n",
       "    </tr>\n",
       "  </thead>\n",
       "  <tbody>\n",
       "    <tr>\n",
       "      <td>196</td>\n",
       "      <td>Класний випуск, адже нарешті показали іншу сто...</td>\n",
       "      <td>Not_Toxic</td>\n",
       "      <td>класний випуск показати інший сторона гламуру ...</td>\n",
       "    </tr>\n",
       "    <tr>\n",
       "      <td>1143</td>\n",
       "      <td>темно у неї під очима через часті секси, або ч...</td>\n",
       "      <td>Toxic</td>\n",
       "      <td>темно око частий секси частий мастурбації</td>\n",
       "    </tr>\n",
       "    <tr>\n",
       "      <td>870</td>\n",
       "      <td>Ваша українська то оргазм для вух</td>\n",
       "      <td>Not_Toxic</td>\n",
       "      <td>український оргазм</td>\n",
       "    </tr>\n",
       "    <tr>\n",
       "      <td>923</td>\n",
       "      <td>Інформацію відкривали вірну, але не все вірно ...</td>\n",
       "      <td>Not_Toxic</td>\n",
       "      <td>інформація відкривати вірний вірно трактувати ...</td>\n",
       "    </tr>\n",
       "    <tr>\n",
       "      <td>718</td>\n",
       "      <td>Ви прекрасні.Здоров'я всій вашій родині.</td>\n",
       "      <td>Not_Toxic</td>\n",
       "      <td>прекрасний здоров'я весь ваш родина</td>\n",
       "    </tr>\n",
       "    <tr>\n",
       "      <td>...</td>\n",
       "      <td>...</td>\n",
       "      <td>...</td>\n",
       "      <td>...</td>\n",
       "    </tr>\n",
       "    <tr>\n",
       "      <td>1075</td>\n",
       "      <td>Дякую Любочко за цікаву гостю і питання по Сум...</td>\n",
       "      <td>Not_Toxic</td>\n",
       "      <td>любочко цікавий гостя питання сумщині людочко ...</td>\n",
       "    </tr>\n",
       "    <tr>\n",
       "      <td>121</td>\n",
       "      <td>Фотосесія відкрила таку неперевершену жіночніс...</td>\n",
       "      <td>Not_Toxic</td>\n",
       "      <td>фотосесія відкрити така неперевершену жіночніс...</td>\n",
       "    </tr>\n",
       "    <tr>\n",
       "      <td>592</td>\n",
       "      <td>Мова - код нації! Дякую за таку роботу! Супер....</td>\n",
       "      <td>Not_Toxic</td>\n",
       "      <td>мова нація така робот супер вчити раз</td>\n",
       "    </tr>\n",
       "    <tr>\n",
       "      <td>485</td>\n",
       "      <td>Останній раунд не дуже подобається</td>\n",
       "      <td>Not_Toxic</td>\n",
       "      <td>останній раунд подобатися</td>\n",
       "    </tr>\n",
       "    <tr>\n",
       "      <td>935</td>\n",
       "      <td>Ви несповна розуму....</td>\n",
       "      <td>Toxic</td>\n",
       "      <td>несповна розум</td>\n",
       "    </tr>\n",
       "  </tbody>\n",
       "</table>\n",
       "<p>291 rows × 3 columns</p>\n",
       "</div>"
      ],
      "text/plain": [
       "                                                Comment   Category  \\\n",
       "196   Класний випуск, адже нарешті показали іншу сто...  Not_Toxic   \n",
       "1143  темно у неї під очима через часті секси, або ч...      Toxic   \n",
       "870                   Ваша українська то оргазм для вух  Not_Toxic   \n",
       "923   Інформацію відкривали вірну, але не все вірно ...  Not_Toxic   \n",
       "718            Ви прекрасні.Здоров'я всій вашій родині.  Not_Toxic   \n",
       "...                                                 ...        ...   \n",
       "1075  Дякую Любочко за цікаву гостю і питання по Сум...  Not_Toxic   \n",
       "121   Фотосесія відкрила таку неперевершену жіночніс...  Not_Toxic   \n",
       "592   Мова - код нації! Дякую за таку роботу! Супер....  Not_Toxic   \n",
       "485                  Останній раунд не дуже подобається  Not_Toxic   \n",
       "935                              Ви несповна розуму....      Toxic   \n",
       "\n",
       "                                              ClearText  \n",
       "196   класний випуск показати інший сторона гламуру ...  \n",
       "1143          темно око частий секси частий мастурбації  \n",
       "870                                  український оргазм  \n",
       "923   інформація відкривати вірний вірно трактувати ...  \n",
       "718                 прекрасний здоров'я весь ваш родина  \n",
       "...                                                 ...  \n",
       "1075  любочко цікавий гостя питання сумщині людочко ...  \n",
       "121   фотосесія відкрити така неперевершену жіночніс...  \n",
       "592               мова нація така робот супер вчити раз  \n",
       "485                           останній раунд подобатися  \n",
       "935                                      несповна розум  \n",
       "\n",
       "[291 rows x 3 columns]"
      ]
     },
     "execution_count": 13,
     "metadata": {},
     "output_type": "execute_result"
    }
   ],
   "source": [
    "df_test"
   ]
  },
  {
   "cell_type": "code",
   "execution_count": 44,
   "metadata": {},
   "outputs": [],
   "source": [
    "count_vect = CountVectorizer()\n",
    "X_train_counts = count_vect.fit_transform(df_train['ClearText'])\n",
    "tfidf_transformer = TfidfTransformer()\n",
    "X_train_tfidf = tfidf_transformer.fit_transform(X_train_counts)"
   ]
  },
  {
   "cell_type": "markdown",
   "metadata": {},
   "source": [
    "# MultinomialNB"
   ]
  },
  {
   "cell_type": "code",
   "execution_count": 63,
   "metadata": {},
   "outputs": [],
   "source": [
    "text_clf = Pipeline([('vect', CountVectorizer()),\n",
    "                      ('tfidf', TfidfTransformer()),\n",
    "                      ('clf', MultinomialNB()),\n",
    "])\n",
    "text_clf = text_clf.fit(df_train['ClearText'], df_train['Category'])"
   ]
  },
  {
   "cell_type": "code",
   "execution_count": 64,
   "metadata": {},
   "outputs": [
    {
     "data": {
      "text/plain": [
       "0.6804123711340206"
      ]
     },
     "execution_count": 64,
     "metadata": {},
     "output_type": "execute_result"
    }
   ],
   "source": [
    "predicted = text_clf.predict(df_test['ClearText'])\n",
    "np.mean(predicted == df_test['Category'])"
   ]
  },
  {
   "cell_type": "markdown",
   "metadata": {},
   "source": [
    "# SVM"
   ]
  },
  {
   "cell_type": "code",
   "execution_count": 39,
   "metadata": {},
   "outputs": [],
   "source": [
    "text_clf_svm = Pipeline([('vect', CountVectorizer()),\n",
    "                      ('tfidf', TfidfTransformer()),\n",
    "                      ('clf-svm', SGDClassifier(loss='hinge', penalty='l2', alpha=1e-3,  random_state=42)),\n",
    "])\n",
    "train_svm = text_clf_svm.fit(df_train['ClearText'], df_train['Category'])"
   ]
  },
  {
   "cell_type": "code",
   "execution_count": 40,
   "metadata": {},
   "outputs": [
    {
     "data": {
      "text/plain": [
       "0.7628865979381443"
      ]
     },
     "execution_count": 40,
     "metadata": {},
     "output_type": "execute_result"
    }
   ],
   "source": [
    "predicted_svm = text_clf_svm.predict(df_test['ClearText'])\n",
    "np.mean(predicted_svm == df_test['Category'])"
   ]
  },
  {
   "cell_type": "code",
   "execution_count": 67,
   "metadata": {},
   "outputs": [
    {
     "data": {
      "text/plain": [
       "array(['Not_Toxic', 'Not_Toxic', 'Toxic', 'Not_Toxic', 'Not_Toxic',\n",
       "       'Not_Toxic', 'Not_Toxic', 'Toxic', 'Not_Toxic', 'Toxic',\n",
       "       'Not_Toxic', 'Not_Toxic', 'Toxic', 'Toxic', 'Not_Toxic',\n",
       "       'Not_Toxic', 'Not_Toxic', 'Toxic', 'Not_Toxic', 'Not_Toxic',\n",
       "       'Not_Toxic', 'Not_Toxic', 'Not_Toxic', 'Not_Toxic', 'Not_Toxic',\n",
       "       'Not_Toxic', 'Not_Toxic', 'Not_Toxic', 'Toxic', 'Not_Toxic',\n",
       "       'Not_Toxic', 'Not_Toxic', 'Not_Toxic', 'Not_Toxic', 'Toxic',\n",
       "       'Not_Toxic', 'Not_Toxic', 'Toxic', 'Not_Toxic', 'Toxic',\n",
       "       'Not_Toxic', 'Not_Toxic', 'Toxic', 'Not_Toxic', 'Not_Toxic',\n",
       "       'Not_Toxic', 'Not_Toxic', 'Not_Toxic', 'Not_Toxic', 'Toxic',\n",
       "       'Not_Toxic', 'Not_Toxic', 'Not_Toxic', 'Not_Toxic', 'Not_Toxic',\n",
       "       'Not_Toxic', 'Not_Toxic', 'Not_Toxic', 'Not_Toxic', 'Not_Toxic',\n",
       "       'Toxic', 'Not_Toxic', 'Toxic', 'Toxic', 'Not_Toxic', 'Toxic',\n",
       "       'Not_Toxic', 'Not_Toxic', 'Not_Toxic', 'Not_Toxic', 'Not_Toxic',\n",
       "       'Toxic', 'Not_Toxic', 'Not_Toxic', 'Toxic', 'Not_Toxic', 'Toxic',\n",
       "       'Not_Toxic', 'Not_Toxic', 'Not_Toxic', 'Not_Toxic', 'Not_Toxic',\n",
       "       'Not_Toxic', 'Not_Toxic', 'Not_Toxic', 'Not_Toxic', 'Not_Toxic',\n",
       "       'Not_Toxic', 'Not_Toxic', 'Not_Toxic', 'Not_Toxic', 'Not_Toxic',\n",
       "       'Not_Toxic', 'Not_Toxic', 'Not_Toxic', 'Not_Toxic', 'Toxic',\n",
       "       'Not_Toxic', 'Not_Toxic', 'Not_Toxic', 'Toxic', 'Not_Toxic',\n",
       "       'Not_Toxic', 'Not_Toxic', 'Toxic', 'Not_Toxic', 'Not_Toxic',\n",
       "       'Toxic', 'Toxic', 'Toxic', 'Not_Toxic', 'Toxic', 'Not_Toxic',\n",
       "       'Not_Toxic', 'Not_Toxic', 'Not_Toxic', 'Not_Toxic', 'Not_Toxic',\n",
       "       'Toxic', 'Not_Toxic', 'Not_Toxic', 'Toxic', 'Not_Toxic',\n",
       "       'Not_Toxic', 'Not_Toxic', 'Toxic', 'Toxic', 'Not_Toxic',\n",
       "       'Not_Toxic', 'Not_Toxic', 'Toxic', 'Not_Toxic', 'Not_Toxic',\n",
       "       'Not_Toxic', 'Not_Toxic', 'Not_Toxic', 'Not_Toxic', 'Not_Toxic',\n",
       "       'Toxic', 'Not_Toxic', 'Not_Toxic', 'Toxic', 'Not_Toxic',\n",
       "       'Not_Toxic', 'Toxic', 'Not_Toxic', 'Not_Toxic', 'Not_Toxic',\n",
       "       'Not_Toxic', 'Toxic', 'Not_Toxic', 'Not_Toxic', 'Toxic',\n",
       "       'Not_Toxic', 'Not_Toxic', 'Not_Toxic', 'Not_Toxic', 'Not_Toxic',\n",
       "       'Not_Toxic', 'Not_Toxic', 'Not_Toxic', 'Not_Toxic', 'Not_Toxic',\n",
       "       'Toxic', 'Not_Toxic', 'Toxic', 'Not_Toxic', 'Not_Toxic',\n",
       "       'Not_Toxic', 'Not_Toxic', 'Not_Toxic', 'Not_Toxic', 'Not_Toxic',\n",
       "       'Not_Toxic', 'Not_Toxic', 'Not_Toxic', 'Not_Toxic', 'Toxic',\n",
       "       'Not_Toxic', 'Not_Toxic', 'Not_Toxic', 'Not_Toxic', 'Not_Toxic',\n",
       "       'Not_Toxic', 'Not_Toxic', 'Not_Toxic', 'Not_Toxic', 'Not_Toxic',\n",
       "       'Not_Toxic', 'Not_Toxic', 'Not_Toxic', 'Toxic', 'Not_Toxic',\n",
       "       'Not_Toxic', 'Not_Toxic', 'Not_Toxic', 'Not_Toxic', 'Toxic',\n",
       "       'Not_Toxic', 'Not_Toxic', 'Not_Toxic', 'Not_Toxic', 'Not_Toxic',\n",
       "       'Not_Toxic', 'Not_Toxic', 'Toxic', 'Not_Toxic', 'Not_Toxic',\n",
       "       'Not_Toxic', 'Toxic', 'Not_Toxic', 'Not_Toxic', 'Not_Toxic',\n",
       "       'Not_Toxic', 'Toxic', 'Not_Toxic', 'Not_Toxic', 'Not_Toxic',\n",
       "       'Toxic', 'Not_Toxic', 'Not_Toxic', 'Not_Toxic', 'Not_Toxic',\n",
       "       'Not_Toxic', 'Toxic', 'Toxic', 'Not_Toxic', 'Not_Toxic', 'Toxic',\n",
       "       'Not_Toxic', 'Not_Toxic', 'Not_Toxic', 'Toxic', 'Toxic', 'Toxic',\n",
       "       'Not_Toxic', 'Not_Toxic', 'Not_Toxic', 'Not_Toxic', 'Toxic',\n",
       "       'Toxic', 'Not_Toxic', 'Not_Toxic', 'Not_Toxic', 'Not_Toxic',\n",
       "       'Toxic', 'Not_Toxic', 'Not_Toxic', 'Toxic', 'Not_Toxic',\n",
       "       'Not_Toxic', 'Not_Toxic', 'Not_Toxic', 'Not_Toxic', 'Not_Toxic',\n",
       "       'Not_Toxic', 'Not_Toxic', 'Not_Toxic', 'Not_Toxic', 'Toxic',\n",
       "       'Not_Toxic', 'Not_Toxic', 'Not_Toxic', 'Not_Toxic', 'Not_Toxic',\n",
       "       'Not_Toxic', 'Not_Toxic', 'Not_Toxic', 'Not_Toxic', 'Not_Toxic',\n",
       "       'Not_Toxic', 'Not_Toxic', 'Not_Toxic', 'Not_Toxic', 'Not_Toxic',\n",
       "       'Not_Toxic', 'Not_Toxic', 'Toxic', 'Not_Toxic', 'Not_Toxic',\n",
       "       'Not_Toxic', 'Not_Toxic', 'Not_Toxic', 'Not_Toxic', 'Not_Toxic',\n",
       "       'Not_Toxic', 'Not_Toxic', 'Not_Toxic', 'Not_Toxic', 'Not_Toxic',\n",
       "       'Not_Toxic'], dtype='<U9')"
      ]
     },
     "execution_count": 67,
     "metadata": {},
     "output_type": "execute_result"
    }
   ],
   "source": [
    "predicted_svm"
   ]
  },
  {
   "cell_type": "markdown",
   "metadata": {},
   "source": [
    "# LogisticRegression"
   ]
  },
  {
   "cell_type": "code",
   "execution_count": 45,
   "metadata": {},
   "outputs": [
    {
     "name": "stdout",
     "output_type": "stream",
     "text": [
      "[LibLinear]"
     ]
    }
   ],
   "source": [
    "text_clf_log_reg = Pipeline([('vect', CountVectorizer()),\n",
    "                      ('tfidf', TfidfTransformer()),\n",
    "                      ('clf-svm', LogisticRegression(verbose=1, solver='liblinear',random_state=0, C=5, penalty='l2',max_iter=1000)),\n",
    "])\n",
    "train_log_reg = text_clf_log_reg.fit(df_train['ClearText'], df_train['Category'])"
   ]
  },
  {
   "cell_type": "code",
   "execution_count": 46,
   "metadata": {},
   "outputs": [
    {
     "data": {
      "text/plain": [
       "0.7697594501718213"
      ]
     },
     "execution_count": 46,
     "metadata": {},
     "output_type": "execute_result"
    }
   ],
   "source": [
    "predicted_log_reg = text_clf_log_reg.predict(df_test['ClearText'])\n",
    "np.mean(predicted_log_reg == df_test['Category'])"
   ]
  },
  {
   "cell_type": "code",
   "execution_count": 73,
   "metadata": {},
   "outputs": [
    {
     "name": "stdout",
     "output_type": "stream",
     "text": [
      "[LibLinear]"
     ]
    },
    {
     "data": {
      "text/plain": [
       "0.7766323024054983"
      ]
     },
     "execution_count": 73,
     "metadata": {},
     "output_type": "execute_result"
    }
   ],
   "source": [
    "text_clf_log_reg1 = Pipeline([('vect', CountVectorizer()),\n",
    "                      ('tfidf', TfidfTransformer()),\n",
    "                      ('clf-svm', LogisticRegression(verbose=1, solver='liblinear',random_state=0, C=20, penalty='l2',  max_iter=1000)),\n",
    "])\n",
    "train_log_reg1 = text_clf_log_reg1.fit(df_train['ClearText'], df_train['Category'])\n",
    "predicted_log_reg1 = text_clf_log_reg1.predict(df_test['ClearText'])\n",
    "np.mean(predicted_log_reg1 == df_test['Category'])"
   ]
  },
  {
   "cell_type": "code",
   "execution_count": 47,
   "metadata": {},
   "outputs": [
    {
     "data": {
      "text/plain": [
       "array(['Not_Toxic', 'Not_Toxic', 'Not_Toxic', 'Not_Toxic', 'Not_Toxic',\n",
       "       'Not_Toxic', 'Not_Toxic', 'Not_Toxic', 'Toxic', 'Not_Toxic',\n",
       "       'Not_Toxic', 'Not_Toxic', 'Not_Toxic', 'Not_Toxic', 'Toxic',\n",
       "       'Not_Toxic', 'Not_Toxic', 'Not_Toxic', 'Not_Toxic', 'Not_Toxic',\n",
       "       'Toxic', 'Not_Toxic', 'Not_Toxic', 'Not_Toxic', 'Not_Toxic',\n",
       "       'Not_Toxic', 'Not_Toxic', 'Not_Toxic', 'Not_Toxic', 'Toxic',\n",
       "       'Not_Toxic', 'Not_Toxic', 'Not_Toxic', 'Not_Toxic', 'Toxic',\n",
       "       'Not_Toxic', 'Not_Toxic', 'Not_Toxic', 'Toxic', 'Not_Toxic',\n",
       "       'Toxic', 'Not_Toxic', 'Not_Toxic', 'Toxic', 'Not_Toxic',\n",
       "       'Not_Toxic', 'Not_Toxic', 'Not_Toxic', 'Not_Toxic', 'Toxic',\n",
       "       'Not_Toxic', 'Toxic', 'Toxic', 'Not_Toxic', 'Toxic', 'Not_Toxic',\n",
       "       'Toxic', 'Not_Toxic', 'Not_Toxic', 'Not_Toxic', 'Not_Toxic',\n",
       "       'Toxic', 'Not_Toxic', 'Not_Toxic', 'Not_Toxic', 'Toxic',\n",
       "       'Not_Toxic', 'Not_Toxic', 'Not_Toxic', 'Not_Toxic', 'Not_Toxic',\n",
       "       'Not_Toxic', 'Not_Toxic', 'Not_Toxic', 'Toxic', 'Not_Toxic',\n",
       "       'Not_Toxic', 'Not_Toxic', 'Not_Toxic', 'Not_Toxic', 'Not_Toxic',\n",
       "       'Not_Toxic', 'Not_Toxic', 'Not_Toxic', 'Not_Toxic', 'Not_Toxic',\n",
       "       'Not_Toxic', 'Toxic', 'Toxic', 'Toxic', 'Not_Toxic', 'Toxic',\n",
       "       'Not_Toxic', 'Not_Toxic', 'Not_Toxic', 'Not_Toxic', 'Not_Toxic',\n",
       "       'Not_Toxic', 'Not_Toxic', 'Toxic', 'Not_Toxic', 'Not_Toxic',\n",
       "       'Not_Toxic', 'Not_Toxic', 'Not_Toxic', 'Not_Toxic', 'Not_Toxic',\n",
       "       'Not_Toxic', 'Not_Toxic', 'Not_Toxic', 'Not_Toxic', 'Not_Toxic',\n",
       "       'Not_Toxic', 'Not_Toxic', 'Not_Toxic', 'Not_Toxic', 'Toxic',\n",
       "       'Not_Toxic', 'Toxic', 'Not_Toxic', 'Not_Toxic', 'Not_Toxic',\n",
       "       'Not_Toxic', 'Not_Toxic', 'Not_Toxic', 'Not_Toxic', 'Not_Toxic',\n",
       "       'Toxic', 'Not_Toxic', 'Not_Toxic', 'Toxic', 'Not_Toxic',\n",
       "       'Not_Toxic', 'Not_Toxic', 'Toxic', 'Toxic', 'Not_Toxic', 'Toxic',\n",
       "       'Not_Toxic', 'Not_Toxic', 'Toxic', 'Not_Toxic', 'Not_Toxic',\n",
       "       'Not_Toxic', 'Not_Toxic', 'Not_Toxic', 'Not_Toxic', 'Not_Toxic',\n",
       "       'Not_Toxic', 'Not_Toxic', 'Not_Toxic', 'Toxic', 'Toxic',\n",
       "       'Not_Toxic', 'Not_Toxic', 'Toxic', 'Not_Toxic', 'Not_Toxic',\n",
       "       'Not_Toxic', 'Not_Toxic', 'Toxic', 'Toxic', 'Not_Toxic',\n",
       "       'Not_Toxic', 'Not_Toxic', 'Not_Toxic', 'Not_Toxic', 'Not_Toxic',\n",
       "       'Not_Toxic', 'Not_Toxic', 'Not_Toxic', 'Not_Toxic', 'Not_Toxic',\n",
       "       'Not_Toxic', 'Not_Toxic', 'Toxic', 'Not_Toxic', 'Not_Toxic',\n",
       "       'Not_Toxic', 'Not_Toxic', 'Not_Toxic', 'Not_Toxic', 'Not_Toxic',\n",
       "       'Not_Toxic', 'Not_Toxic', 'Not_Toxic', 'Not_Toxic', 'Not_Toxic',\n",
       "       'Not_Toxic', 'Not_Toxic', 'Not_Toxic', 'Not_Toxic', 'Not_Toxic',\n",
       "       'Not_Toxic', 'Not_Toxic', 'Not_Toxic', 'Not_Toxic', 'Not_Toxic',\n",
       "       'Not_Toxic', 'Not_Toxic', 'Toxic', 'Not_Toxic', 'Toxic', 'Toxic',\n",
       "       'Not_Toxic', 'Toxic', 'Not_Toxic', 'Not_Toxic', 'Not_Toxic',\n",
       "       'Not_Toxic', 'Not_Toxic', 'Not_Toxic', 'Not_Toxic', 'Toxic',\n",
       "       'Not_Toxic', 'Not_Toxic', 'Not_Toxic', 'Not_Toxic', 'Not_Toxic',\n",
       "       'Not_Toxic', 'Not_Toxic', 'Not_Toxic', 'Not_Toxic', 'Not_Toxic',\n",
       "       'Not_Toxic', 'Not_Toxic', 'Not_Toxic', 'Not_Toxic', 'Toxic',\n",
       "       'Not_Toxic', 'Not_Toxic', 'Not_Toxic', 'Not_Toxic', 'Toxic',\n",
       "       'Not_Toxic', 'Not_Toxic', 'Not_Toxic', 'Not_Toxic', 'Not_Toxic',\n",
       "       'Toxic', 'Not_Toxic', 'Not_Toxic', 'Not_Toxic', 'Not_Toxic',\n",
       "       'Not_Toxic', 'Toxic', 'Not_Toxic', 'Not_Toxic', 'Not_Toxic',\n",
       "       'Not_Toxic', 'Not_Toxic', 'Toxic', 'Not_Toxic', 'Not_Toxic',\n",
       "       'Not_Toxic', 'Not_Toxic', 'Toxic', 'Not_Toxic', 'Not_Toxic',\n",
       "       'Not_Toxic', 'Not_Toxic', 'Not_Toxic', 'Not_Toxic', 'Toxic',\n",
       "       'Not_Toxic', 'Not_Toxic', 'Not_Toxic', 'Not_Toxic', 'Not_Toxic',\n",
       "       'Not_Toxic', 'Not_Toxic', 'Not_Toxic', 'Not_Toxic', 'Toxic',\n",
       "       'Toxic', 'Not_Toxic', 'Not_Toxic', 'Toxic', 'Not_Toxic',\n",
       "       'Not_Toxic', 'Not_Toxic', 'Not_Toxic', 'Not_Toxic', 'Not_Toxic',\n",
       "       'Toxic', 'Not_Toxic', 'Not_Toxic', 'Not_Toxic', 'Toxic',\n",
       "       'Not_Toxic', 'Not_Toxic'], dtype=object)"
      ]
     },
     "execution_count": 47,
     "metadata": {},
     "output_type": "execute_result"
    }
   ],
   "source": [
    "predicted_log_reg"
   ]
  },
  {
   "cell_type": "code",
   "execution_count": 48,
   "metadata": {},
   "outputs": [
    {
     "data": {
      "text/html": [
       "<div>\n",
       "<style scoped>\n",
       "    .dataframe tbody tr th:only-of-type {\n",
       "        vertical-align: middle;\n",
       "    }\n",
       "\n",
       "    .dataframe tbody tr th {\n",
       "        vertical-align: top;\n",
       "    }\n",
       "\n",
       "    .dataframe thead th {\n",
       "        text-align: right;\n",
       "    }\n",
       "</style>\n",
       "<table border=\"1\" class=\"dataframe\">\n",
       "  <thead>\n",
       "    <tr style=\"text-align: right;\">\n",
       "      <th></th>\n",
       "      <th>predictions</th>\n",
       "      <th>Comment</th>\n",
       "      <th>Category</th>\n",
       "      <th>ClearText</th>\n",
       "    </tr>\n",
       "  </thead>\n",
       "  <tbody>\n",
       "    <tr>\n",
       "      <td>0</td>\n",
       "      <td>Not_Toxic</td>\n",
       "      <td>Його слухати те ж що наш зомбоящик..що він мож...</td>\n",
       "      <td>Toxic</td>\n",
       "      <td>слухати зомбоящик знати незрозуміло</td>\n",
       "    </tr>\n",
       "    <tr>\n",
       "      <td>1</td>\n",
       "      <td>Not_Toxic</td>\n",
       "      <td>А КИЇВ СКЛЯНА ГОСТИНИЦА ПОСТРАЖДАЛА І ЦЕ БУЛО ...</td>\n",
       "      <td>Not_Toxic</td>\n",
       "      <td>кий скляний гостиница постраждалий біля вокзал</td>\n",
       "    </tr>\n",
       "    <tr>\n",
       "      <td>2</td>\n",
       "      <td>Not_Toxic</td>\n",
       "      <td>УКРАЇНА ПЕРЕМОЖЕ СЛАВА УКРАЇНІ СЛАВА ЗСУ</td>\n",
       "      <td>Not_Toxic</td>\n",
       "      <td>Україна перемогти слава Україна слава</td>\n",
       "    </tr>\n",
       "    <tr>\n",
       "      <td>3</td>\n",
       "      <td>Not_Toxic</td>\n",
       "      <td>Найкраща підбірка пісень. Скрябін</td>\n",
       "      <td>Not_Toxic</td>\n",
       "      <td>найкращий підбірка пісня скрябін</td>\n",
       "    </tr>\n",
       "    <tr>\n",
       "      <td>4</td>\n",
       "      <td>Not_Toxic</td>\n",
       "      <td>Красива жінка Будьте щасливі Самій захотілось ...</td>\n",
       "      <td>Not_Toxic</td>\n",
       "      <td>красивий жінка бути щасливий захотітися така ф...</td>\n",
       "    </tr>\n",
       "    <tr>\n",
       "      <td>...</td>\n",
       "      <td>...</td>\n",
       "      <td>...</td>\n",
       "      <td>...</td>\n",
       "      <td>...</td>\n",
       "    </tr>\n",
       "    <tr>\n",
       "      <td>286</td>\n",
       "      <td>Not_Toxic</td>\n",
       "      <td>Людмила чудова людина, має прикрасну сім'ю, чу...</td>\n",
       "      <td>Not_Toxic</td>\n",
       "      <td>Людмила чудовий прикрасну сім'я чудовий чолові...</td>\n",
       "    </tr>\n",
       "    <tr>\n",
       "      <td>287</td>\n",
       "      <td>Not_Toxic</td>\n",
       "      <td>Якщо приїхати до Львова росіянину, тебе не вб'...</td>\n",
       "      <td>Toxic</td>\n",
       "      <td>приїхати Львів росіянину вбити</td>\n",
       "    </tr>\n",
       "    <tr>\n",
       "      <td>288</td>\n",
       "      <td>Toxic</td>\n",
       "      <td>А чого позаду вас Маріуполь російською? Хлопці...</td>\n",
       "      <td>Toxic</td>\n",
       "      <td>позаду маріуполь російською хлопець</td>\n",
       "    </tr>\n",
       "    <tr>\n",
       "      <td>289</td>\n",
       "      <td>Not_Toxic</td>\n",
       "      <td>Дякую за чудову мову, приємно слухать!</td>\n",
       "      <td>Not_Toxic</td>\n",
       "      <td>чудовий мова приємно слухати</td>\n",
       "    </tr>\n",
       "    <tr>\n",
       "      <td>290</td>\n",
       "      <td>Not_Toxic</td>\n",
       "      <td>Не росте там. Тому сади не ростуть. \\nПросіть ...</td>\n",
       "      <td>Not_Toxic</td>\n",
       "      <td>рости сад рости просити друз щоби вирили глибо...</td>\n",
       "    </tr>\n",
       "  </tbody>\n",
       "</table>\n",
       "<p>291 rows × 4 columns</p>\n",
       "</div>"
      ],
      "text/plain": [
       "    predictions                                            Comment   Category  \\\n",
       "0     Not_Toxic  Його слухати те ж що наш зомбоящик..що він мож...      Toxic   \n",
       "1     Not_Toxic  А КИЇВ СКЛЯНА ГОСТИНИЦА ПОСТРАЖДАЛА І ЦЕ БУЛО ...  Not_Toxic   \n",
       "2     Not_Toxic           УКРАЇНА ПЕРЕМОЖЕ СЛАВА УКРАЇНІ СЛАВА ЗСУ  Not_Toxic   \n",
       "3     Not_Toxic                 Найкраща підбірка пісень. Скрябін   Not_Toxic   \n",
       "4     Not_Toxic  Красива жінка Будьте щасливі Самій захотілось ...  Not_Toxic   \n",
       "..          ...                                                ...        ...   \n",
       "286   Not_Toxic  Людмила чудова людина, має прикрасну сім'ю, чу...  Not_Toxic   \n",
       "287   Not_Toxic  Якщо приїхати до Львова росіянину, тебе не вб'...      Toxic   \n",
       "288       Toxic  А чого позаду вас Маріуполь російською? Хлопці...      Toxic   \n",
       "289   Not_Toxic             Дякую за чудову мову, приємно слухать!  Not_Toxic   \n",
       "290   Not_Toxic  Не росте там. Тому сади не ростуть. \\nПросіть ...  Not_Toxic   \n",
       "\n",
       "                                             ClearText  \n",
       "0                  слухати зомбоящик знати незрозуміло  \n",
       "1       кий скляний гостиница постраждалий біля вокзал  \n",
       "2                Україна перемогти слава Україна слава  \n",
       "3                     найкращий підбірка пісня скрябін  \n",
       "4    красивий жінка бути щасливий захотітися така ф...  \n",
       "..                                                 ...  \n",
       "286  Людмила чудовий прикрасну сім'я чудовий чолові...  \n",
       "287                     приїхати Львів росіянину вбити  \n",
       "288                позаду маріуполь російською хлопець  \n",
       "289                       чудовий мова приємно слухати  \n",
       "290  рости сад рости просити друз щоби вирили глибо...  \n",
       "\n",
       "[291 rows x 4 columns]"
      ]
     },
     "execution_count": 48,
     "metadata": {},
     "output_type": "execute_result"
    }
   ],
   "source": [
    "predicted_log_reg_df = pd.DataFrame(predicted_log_reg, columns=['predictions'])\n",
    "df_test.index = range(0, df_test.shape[0])\n",
    "result = pd.concat([predicted_log_reg_df, df_test], axis=1)\n",
    "result.to_csv('C:/Users/helen/OneDrive/Рабочий стол/пары/prediction.csv')\n",
    "result"
   ]
  },
  {
   "cell_type": "markdown",
   "metadata": {},
   "source": [
    "# Metrics"
   ]
  },
  {
   "cell_type": "code",
   "execution_count": 49,
   "metadata": {},
   "outputs": [],
   "source": [
    "pred_labels = np.asarray(list(result['predictions']))\n",
    "true_labels = np.asarray(list(result['Category']))"
   ]
  },
  {
   "cell_type": "code",
   "execution_count": 50,
   "metadata": {},
   "outputs": [],
   "source": [
    "# True Positive (TP): we predict a label of 1 (positive), and the true label is 1.\n",
    "TP = np.sum(np.logical_and(pred_labels == 'Toxic', true_labels == 'Toxic'))\n",
    " \n",
    "# True Negative (TN): we predict a label of 0 (negative), and the true label is 0.\n",
    "TN = np.sum(np.logical_and(pred_labels == 'Not_Toxic', true_labels == 'Not_Toxic'))\n",
    " \n",
    "# False Positive (FP): we predict a label of 1 (positive), but the true label is 0.\n",
    "FP = np.sum(np.logical_and(pred_labels == 'Toxic', true_labels == 'Not_Toxic'))\n",
    " \n",
    "# False Negative (FN): we predict a label of 0 (negative), but the true label is 1.\n",
    "FN = np.sum(np.logical_and(pred_labels == 'Not_Toxic', true_labels == 'Toxic'))"
   ]
  },
  {
   "cell_type": "code",
   "execution_count": 51,
   "metadata": {},
   "outputs": [
    {
     "name": "stdout",
     "output_type": "stream",
     "text": [
      "TP = 39, TN = 185, FP = 13, FN = 54\n"
     ]
    }
   ],
   "source": [
    "print('TP = {}, TN = {}, FP = {}, FN = {}'.format(TP, TN, FP, FN))\n"
   ]
  },
  {
   "cell_type": "code",
   "execution_count": 26,
   "metadata": {},
   "outputs": [
    {
     "data": {
      "text/plain": [
       "87"
      ]
     },
     "execution_count": 26,
     "metadata": {},
     "output_type": "execute_result"
    }
   ],
   "source": [
    "list(true_labels).count('Toxic')"
   ]
  },
  {
   "cell_type": "code",
   "execution_count": 27,
   "metadata": {},
   "outputs": [
    {
     "data": {
      "text/plain": [
       "204"
      ]
     },
     "execution_count": 27,
     "metadata": {},
     "output_type": "execute_result"
    }
   ],
   "source": [
    "list(true_labels).count('Not_Toxic')"
   ]
  },
  {
   "cell_type": "code",
   "execution_count": 52,
   "metadata": {},
   "outputs": [
    {
     "data": {
      "text/plain": [
       "0.5379310344827586"
      ]
     },
     "execution_count": 52,
     "metadata": {},
     "output_type": "execute_result"
    }
   ],
   "source": [
    "Precision = TP / (TP + FP)\n",
    "Recall = TP / (TP + FN)\n",
    "F1_Score = 2 * (Precision * Recall) / (Precision + Recall)\n",
    "F1_Score"
   ]
  },
  {
   "cell_type": "code",
   "execution_count": null,
   "metadata": {},
   "outputs": [],
   "source": []
  },
  {
   "cell_type": "code",
   "execution_count": null,
   "metadata": {},
   "outputs": [],
   "source": []
  },
  {
   "cell_type": "code",
   "execution_count": null,
   "metadata": {},
   "outputs": [],
   "source": []
  },
  {
   "cell_type": "code",
   "execution_count": null,
   "metadata": {},
   "outputs": [],
   "source": []
  }
 ],
 "metadata": {
  "kernelspec": {
   "display_name": "Python 3",
   "language": "python",
   "name": "python3"
  },
  "language_info": {
   "codemirror_mode": {
    "name": "ipython",
    "version": 3
   },
   "file_extension": ".py",
   "mimetype": "text/x-python",
   "name": "python",
   "nbconvert_exporter": "python",
   "pygments_lexer": "ipython3",
   "version": "3.7.4"
  }
 },
 "nbformat": 4,
 "nbformat_minor": 2
}

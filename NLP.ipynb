{
 "cells": [
  {
   "cell_type": "code",
   "execution_count": 145,
   "metadata": {},
   "outputs": [],
   "source": [
    "import re\n",
    "import pandas as pd\n",
    "import numpy as np\n",
    "import simplemma\n",
    "from stop_words import get_stop_words\n",
    "from sklearn.feature_extraction.text import TfidfVectorizer\n",
    "from sklearn.feature_extraction.text import TfidfTransformer\n",
    "from sklearn.feature_extraction.text import CountVectorizer\n",
    "from sklearn.naive_bayes import MultinomialNB\n",
    "from sklearn.pipeline import Pipeline\n",
    "from sklearn.linear_model import SGDClassifier\n",
    "from sklearn.linear_model import LogisticRegression"
   ]
  },
  {
   "cell_type": "code",
   "execution_count": null,
   "metadata": {},
   "outputs": [],
   "source": [
    "stop_words = get_stop_words('uk')"
   ]
  },
  {
   "cell_type": "code",
   "execution_count": 111,
   "metadata": {},
   "outputs": [],
   "source": [
    "#попередня обробка тексту\n",
    "def ClearText(text):\n",
    "    #переведення до нижнього регістру всіх слів\n",
    "    cleartext = text.lower()\n",
    "    #print(cleartext)\n",
    "    #прибирання пустих рядків та розрив рядків\n",
    "    cleartext = re.sub('\\-\\s\\r\\n\\s{1,}|\\-\\s\\r\\n|\\r\\n', '', cleartext) \n",
    "    #залишаємо лише слова, прибираємо пунктуацію та числа\n",
    "    cleartext = re.sub('[.,:;_%©?*,!@#$%^&()\\d]|[+=]|[[]|[]]|[/]|\"|\\s{2,}|-', ' ', cleartext) #deleting symbols  \n",
    "    remove_digits = str.maketrans('', '', digits)\n",
    "    #cleartext = cleartext.translate(remove_digits)\n",
    "    cleartext = cleartext.replace(\"\\\\\", \"\")\n",
    "    cleartext = cleartext.rstrip()\n",
    "    #прибираємо зайві пробіи\n",
    "    cleartext = re.sub(\" +\", \" \", cleartext)\n",
    "    #ділимо речення на список слів, розбиваємо по пробілам\n",
    "    cleartext = re.split(\" \", cleartext)\n",
    "    #лематизація слів\n",
    "    cleartext = [simplemma.lemmatize(word, lang='uk') for word in cleartext]\n",
    "    #прибираємо стопслова\n",
    "    cleartext = [word for word in cleartext if word not in stop_words]\n",
    "    #прибираємо слова, довжина який менше 3 букв\n",
    "    cleartext = [word for word in cleartext if len(word) > 3]\n",
    "    return ' '.join(cleartext)"
   ]
  },
  {
   "cell_type": "code",
   "execution_count": 97,
   "metadata": {},
   "outputs": [
    {
     "name": "stdout",
     "output_type": "stream",
     "text": [
      "['a', 'б', 'в', 'г', 'е', 'ж', 'з', 'м', 'т', 'у', 'я', 'є', 'і', 'аж', 'ви', 'де', 'до', 'за', 'зі', 'ми', 'на', 'не', 'ну', 'нх', 'ні', 'по', 'та', 'ти', 'то', 'ту', 'ті', 'це', 'цю', 'ця', 'ці', 'чи', 'ще', 'що', 'як', 'їй', 'їм', 'їх', 'її', 'або', 'але', 'ало', 'без', 'був', 'вам', 'вас', 'ваш', 'вже', 'все', 'всю', 'вся', 'від', 'він', 'два', 'дві', 'для', 'ким', 'мож', 'моя', 'моє', 'мої', 'міг', 'між', 'мій', 'над', 'нам', 'нас', 'наш', 'нею', 'неї', 'них', 'ніж', 'ній', 'ось', 'при', 'про', 'під', 'пір', 'раз', 'рік', 'сам', 'сих', 'сім', 'так', 'там', 'теж', 'тим', 'тих', 'той', 'тою', 'три', 'тут', 'хоч', 'хто', 'цей', 'цим', 'цих', 'час', 'щоб', 'яка', 'які', 'адже', 'буде', 'буду', 'будь', 'була', 'були', 'було', 'бути', 'вами', 'ваша', 'ваше', 'ваші', 'весь', 'вниз', 'вона', 'вони', 'воно', 'всею', 'всім', 'всіх', 'втім', 'геть', 'далі', 'двох', 'день', 'дуже', 'зате', 'його', 'йому', 'каже', 'кого', 'коли', 'кому', 'крім', 'куди', 'лише', 'люди', 'мало', 'мати', 'мене', 'мені', 'миру', 'мною', 'може', 'нами', 'наша', 'наше', 'наші', 'ними', 'ніби', 'один', 'поки', 'пора', 'рано', 'року', 'році', 'сама', 'саме', 'саму', 'самі', 'свою', 'своє', 'свої', 'себе', 'собі', 'став', 'суть', 'така', 'таке', 'такі', 'твоя', 'твоє', 'твій', 'тебе', 'тими', 'тобі', 'того', 'тоді', 'тому', 'туди', 'хоча', 'хіба', 'цими', 'цієї', 'часу', 'чого', 'чому', 'який', 'яких', 'якої', 'якщо', \"ім'я\", 'інша', 'інше', 'інші', 'буває', 'будеш', 'більш', 'вгору', 'вміти', 'внизу', 'вісім', 'давно', 'даром', 'добре', 'довго', 'друго', 'дякую', 'життя', 'зараз', 'знову', 'какая', 'кожен', 'кожна', 'кожне', 'кожні', 'краще', 'ледве', 'майже', 'менше', 'могти', 'можна', 'назад', 'немає', 'нижче', 'нього', 'однак', \"п'ять\", 'перед', 'поруч', 'потім', 'проти', 'після', 'років', 'самим', 'самих', 'самій', 'свого', 'своєї', 'своїх', 'собою', 'справ', 'такий', 'також', 'тепер', 'тисяч', 'тобою', 'треба', 'трохи', 'усюди', 'усіма', 'хочеш', 'цього', 'цьому', 'часто', 'через', 'шість', 'якого', 'іноді', 'інший', 'інших', 'багато', 'будемо', 'будете', 'будуть', 'більше', 'всього', 'всьому', 'далеко', 'десять', 'досить', 'другий', 'дійсно', 'завжди', 'звідси', 'зовсім', 'кругом', 'кілька', 'людина', 'можуть', 'навіть', 'навіщо', 'нагорі', 'небудь', 'низько', 'ніколи', 'нікуди', 'нічого', 'обидва', 'одного', 'однієї', \"п'ятий\", 'перший', 'просто', 'раніше', 'раптом', 'самими', 'самого', 'самому', 'сказав', 'скрізь', 'сьомий', 'третій', 'тільки', 'хотіти', 'чотири', 'чудово', 'шостий', 'близько', 'важлива', 'важливе', 'важливі', 'вдалині', 'восьмий', 'говорив', \"дев'ять\", 'десятий', 'зайнята', 'зайнято', 'зайняті', 'занадто', 'значить', 'навколо', 'нарешті', 'нерідко', 'повинно', 'посеред', 'початку', 'пізніше', 'сказала', 'сказати', 'скільки', 'спасибі', 'частіше', 'важливий', 'двадцять', \"дев'ятий\", 'зазвичай', 'зайнятий', 'звичайно', 'здається', 'найбільш', 'не можна', 'недалеко', 'особливо', 'потрібно', 'спочатку', 'сьогодні', 'численна', 'численне', 'численні', 'відсотків', 'двадцятий', 'звідусіль', 'мільйонів', 'нещодавно', 'прекрасно', 'четвертий', 'численний', 'будь ласка', 'дванадцять', 'одинадцять', 'сімнадцять', 'тринадцять', 'безперервно', 'дванадцятий', 'одинадцятий', 'одного разу', \"п'ятнадцять\", 'сімнадцятий', 'тринадцятий', 'шістнадцять', 'вісімнадцять', \"п'ятнадцятий\", 'чотирнадцять', 'шістнадцятий', 'вісімнадцятий', \"дев'ятнадцять\", 'чотирнадцятий', \"дев'ятнадцятий\"]\n"
     ]
    }
   ],
   "source": [
    "print(stop_words)"
   ]
  },
  {
   "cell_type": "code",
   "execution_count": 74,
   "metadata": {},
   "outputs": [
    {
     "data": {
      "text/html": [
       "<div>\n",
       "<style scoped>\n",
       "    .dataframe tbody tr th:only-of-type {\n",
       "        vertical-align: middle;\n",
       "    }\n",
       "\n",
       "    .dataframe tbody tr th {\n",
       "        vertical-align: top;\n",
       "    }\n",
       "\n",
       "    .dataframe thead th {\n",
       "        text-align: right;\n",
       "    }\n",
       "</style>\n",
       "<table border=\"1\" class=\"dataframe\">\n",
       "  <thead>\n",
       "    <tr style=\"text-align: right;\">\n",
       "      <th></th>\n",
       "      <th>Comment</th>\n",
       "      <th>Category</th>\n",
       "    </tr>\n",
       "  </thead>\n",
       "  <tbody>\n",
       "    <tr>\n",
       "      <td>0</td>\n",
       "      <td>Що вам найбільше сподобалося в перевтіленні Лю...</td>\n",
       "      <td>Not_Toxic</td>\n",
       "    </tr>\n",
       "    <tr>\n",
       "      <td>1</td>\n",
       "      <td>яка гарна родина, щастя вам))</td>\n",
       "      <td>Not_Toxic</td>\n",
       "    </tr>\n",
       "    <tr>\n",
       "      <td>2</td>\n",
       "      <td>Дякую команді за такий чудовий проєкт. На жаль...</td>\n",
       "      <td>Not_Toxic</td>\n",
       "    </tr>\n",
       "    <tr>\n",
       "      <td>3</td>\n",
       "      <td>Щодо танго не згодна. Виглядає так, наче Люда ...</td>\n",
       "      <td>Not_Toxic</td>\n",
       "    </tr>\n",
       "    <tr>\n",
       "      <td>4</td>\n",
       "      <td>Людмила дуже гарна жінка, їй дуже пасує жіночн...</td>\n",
       "      <td>Not_Toxic</td>\n",
       "    </tr>\n",
       "  </tbody>\n",
       "</table>\n",
       "</div>"
      ],
      "text/plain": [
       "                                             Comment   Category\n",
       "0  Що вам найбільше сподобалося в перевтіленні Лю...  Not_Toxic\n",
       "1                      яка гарна родина, щастя вам))  Not_Toxic\n",
       "2  Дякую команді за такий чудовий проєкт. На жаль...  Not_Toxic\n",
       "3  Щодо танго не згодна. Виглядає так, наче Люда ...  Not_Toxic\n",
       "4  Людмила дуже гарна жінка, їй дуже пасує жіночн...  Not_Toxic"
      ]
     },
     "execution_count": 74,
     "metadata": {},
     "output_type": "execute_result"
    }
   ],
   "source": [
    "df_train = pd.read_excel('C:/Users/helen/OneDrive/Рабочий стол/пары/NLP_train.xlsx')\n",
    "df_test = pd.read_excel('C:/Users/helen/OneDrive/Рабочий стол/пары/NLP_test.xlsx')\n",
    "df_train.head()"
   ]
  },
  {
   "cell_type": "code",
   "execution_count": 112,
   "metadata": {},
   "outputs": [],
   "source": [
    "df_train['ClearText'] = df_train.apply(lambda x: ClearText(x['Comment']), axis=1)\n",
    "df_test['ClearText'] = df_test.apply(lambda x: ClearText(x['Comment']), axis=1)"
   ]
  },
  {
   "cell_type": "code",
   "execution_count": 115,
   "metadata": {},
   "outputs": [
    {
     "data": {
      "text/html": [
       "<div>\n",
       "<style scoped>\n",
       "    .dataframe tbody tr th:only-of-type {\n",
       "        vertical-align: middle;\n",
       "    }\n",
       "\n",
       "    .dataframe tbody tr th {\n",
       "        vertical-align: top;\n",
       "    }\n",
       "\n",
       "    .dataframe thead th {\n",
       "        text-align: right;\n",
       "    }\n",
       "</style>\n",
       "<table border=\"1\" class=\"dataframe\">\n",
       "  <thead>\n",
       "    <tr style=\"text-align: right;\">\n",
       "      <th></th>\n",
       "      <th>Comment</th>\n",
       "      <th>Category</th>\n",
       "      <th>ClearText</th>\n",
       "    </tr>\n",
       "  </thead>\n",
       "  <tbody>\n",
       "    <tr>\n",
       "      <td>0</td>\n",
       "      <td>Що вам найбільше сподобалося в перевтіленні Лю...</td>\n",
       "      <td>Not_Toxic</td>\n",
       "      <td>найбільше сподобалося перевтіленні людмили</td>\n",
       "    </tr>\n",
       "    <tr>\n",
       "      <td>1</td>\n",
       "      <td>яка гарна родина, щастя вам))</td>\n",
       "      <td>Not_Toxic</td>\n",
       "      <td>гарна родина щастя</td>\n",
       "    </tr>\n",
       "    <tr>\n",
       "      <td>2</td>\n",
       "      <td>Дякую команді за такий чудовий проєкт. На жаль...</td>\n",
       "      <td>Not_Toxic</td>\n",
       "      <td>команді чудовий проєкт жаль жінок потребує так...</td>\n",
       "    </tr>\n",
       "    <tr>\n",
       "      <td>3</td>\n",
       "      <td>Щодо танго не згодна. Виглядає так, наче Люда ...</td>\n",
       "      <td>Not_Toxic</td>\n",
       "      <td>щодо танго згодна виглядає наче люда збилась б...</td>\n",
       "    </tr>\n",
       "    <tr>\n",
       "      <td>4</td>\n",
       "      <td>Людмила дуже гарна жінка, їй дуже пасує жіночн...</td>\n",
       "      <td>Not_Toxic</td>\n",
       "      <td>людмила гарна жінка пасує жіночність чоловік м...</td>\n",
       "    </tr>\n",
       "    <tr>\n",
       "      <td>...</td>\n",
       "      <td>...</td>\n",
       "      <td>...</td>\n",
       "      <td>...</td>\n",
       "    </tr>\n",
       "    <tr>\n",
       "      <td>243</td>\n",
       "      <td>Українці хвалять розумну людину,а руска нечист...</td>\n",
       "      <td>Toxic</td>\n",
       "      <td>українці хвалять розумну людину руска нечисть ...</td>\n",
       "    </tr>\n",
       "    <tr>\n",
       "      <td>244</td>\n",
       "      <td>Закон телегонії\\r\\nЗакон риту</td>\n",
       "      <td>Not_Toxic</td>\n",
       "      <td>закон телегоніїзакон риту</td>\n",
       "    </tr>\n",
       "    <tr>\n",
       "      <td>245</td>\n",
       "      <td>Чухня якась!</td>\n",
       "      <td>Toxic</td>\n",
       "      <td>чухня якась</td>\n",
       "    </tr>\n",
       "    <tr>\n",
       "      <td>246</td>\n",
       "      <td>Який Херсон хер сон</td>\n",
       "      <td>Toxic</td>\n",
       "      <td>херсон</td>\n",
       "    </tr>\n",
       "    <tr>\n",
       "      <td>247</td>\n",
       "      <td>Дуже добре, що на Росію чекає біда. Чекаємо.</td>\n",
       "      <td>Not_Toxic</td>\n",
       "      <td>росію чекає біда чекаємо</td>\n",
       "    </tr>\n",
       "  </tbody>\n",
       "</table>\n",
       "<p>248 rows × 3 columns</p>\n",
       "</div>"
      ],
      "text/plain": [
       "                                               Comment   Category  \\\n",
       "0    Що вам найбільше сподобалося в перевтіленні Лю...  Not_Toxic   \n",
       "1                        яка гарна родина, щастя вам))  Not_Toxic   \n",
       "2    Дякую команді за такий чудовий проєкт. На жаль...  Not_Toxic   \n",
       "3    Щодо танго не згодна. Виглядає так, наче Люда ...  Not_Toxic   \n",
       "4    Людмила дуже гарна жінка, їй дуже пасує жіночн...  Not_Toxic   \n",
       "..                                                 ...        ...   \n",
       "243  Українці хвалять розумну людину,а руска нечист...      Toxic   \n",
       "244                      Закон телегонії\\r\\nЗакон риту  Not_Toxic   \n",
       "245                                       Чухня якась!      Toxic   \n",
       "246                                Який Херсон хер сон      Toxic   \n",
       "247       Дуже добре, що на Росію чекає біда. Чекаємо.  Not_Toxic   \n",
       "\n",
       "                                             ClearText  \n",
       "0           найбільше сподобалося перевтіленні людмили  \n",
       "1                                   гарна родина щастя  \n",
       "2    команді чудовий проєкт жаль жінок потребує так...  \n",
       "3    щодо танго згодна виглядає наче люда збилась б...  \n",
       "4    людмила гарна жінка пасує жіночність чоловік м...  \n",
       "..                                                 ...  \n",
       "243  українці хвалять розумну людину руска нечисть ...  \n",
       "244                          закон телегоніїзакон риту  \n",
       "245                                        чухня якась  \n",
       "246                                             херсон  \n",
       "247                           росію чекає біда чекаємо  \n",
       "\n",
       "[248 rows x 3 columns]"
      ]
     },
     "execution_count": 115,
     "metadata": {},
     "output_type": "execute_result"
    }
   ],
   "source": [
    "df_train"
   ]
  },
  {
   "cell_type": "code",
   "execution_count": 124,
   "metadata": {},
   "outputs": [],
   "source": [
    "count_vect = CountVectorizer()\n",
    "X_train_counts = count_vect.fit_transform(df_train['ClearText'])\n",
    "tfidf_transformer = TfidfTransformer()\n",
    "X_train_tfidf = tfidf_transformer.fit_transform(X_train_counts)"
   ]
  },
  {
   "cell_type": "markdown",
   "metadata": {},
   "source": [
    "# MultinomialNB"
   ]
  },
  {
   "cell_type": "code",
   "execution_count": 128,
   "metadata": {},
   "outputs": [],
   "source": [
    "text_clf = Pipeline([('vect', CountVectorizer()),\n",
    "                      ('tfidf', TfidfTransformer()),\n",
    "                      ('clf', MultinomialNB()),\n",
    "])\n",
    "text_clf = text_clf.fit(df_train['ClearText'], df_train['Category'])"
   ]
  },
  {
   "cell_type": "code",
   "execution_count": 131,
   "metadata": {},
   "outputs": [
    {
     "data": {
      "text/plain": [
       "0.5662650602409639"
      ]
     },
     "execution_count": 131,
     "metadata": {},
     "output_type": "execute_result"
    }
   ],
   "source": [
    "predicted = text_clf.predict(df_test['ClearText'])\n",
    "np.mean(predicted == df_test['Category'])"
   ]
  },
  {
   "cell_type": "markdown",
   "metadata": {},
   "source": [
    "# SVM"
   ]
  },
  {
   "cell_type": "code",
   "execution_count": 140,
   "metadata": {},
   "outputs": [],
   "source": [
    "text_clf_svm = Pipeline([('vect', CountVectorizer()),\n",
    "                      ('tfidf', TfidfTransformer()),\n",
    "                      ('clf-svm', SGDClassifier(loss='hinge', penalty='l2', alpha=1e-3,  random_state=42)),\n",
    "])\n",
    "train_svm = text_clf_svm.fit(df_train['ClearText'], df_train['Category'])"
   ]
  },
  {
   "cell_type": "code",
   "execution_count": 141,
   "metadata": {},
   "outputs": [
    {
     "data": {
      "text/plain": [
       "0.5783132530120482"
      ]
     },
     "execution_count": 141,
     "metadata": {},
     "output_type": "execute_result"
    }
   ],
   "source": [
    "predicted_svm = text_clf_svm.predict(df_test['ClearText'])\n",
    "np.mean(predicted_svm == df_test['Category'])"
   ]
  },
  {
   "cell_type": "code",
   "execution_count": 143,
   "metadata": {},
   "outputs": [
    {
     "data": {
      "text/plain": [
       "array(['Not_Toxic', 'Not_Toxic', 'Not_Toxic', 'Not_Toxic', 'Not_Toxic',\n",
       "       'Not_Toxic', 'Not_Toxic', 'Toxic', 'Not_Toxic', 'Not_Toxic',\n",
       "       'Not_Toxic', 'Not_Toxic', 'Not_Toxic', 'Not_Toxic', 'Not_Toxic',\n",
       "       'Not_Toxic', 'Not_Toxic', 'Not_Toxic', 'Not_Toxic', 'Not_Toxic',\n",
       "       'Not_Toxic', 'Not_Toxic', 'Not_Toxic', 'Not_Toxic', 'Not_Toxic',\n",
       "       'Not_Toxic', 'Not_Toxic', 'Not_Toxic', 'Not_Toxic', 'Not_Toxic',\n",
       "       'Not_Toxic', 'Not_Toxic', 'Not_Toxic', 'Not_Toxic', 'Not_Toxic',\n",
       "       'Not_Toxic', 'Not_Toxic', 'Not_Toxic', 'Not_Toxic', 'Not_Toxic',\n",
       "       'Not_Toxic', 'Not_Toxic', 'Not_Toxic', 'Not_Toxic', 'Not_Toxic',\n",
       "       'Not_Toxic', 'Not_Toxic', 'Not_Toxic', 'Not_Toxic', 'Toxic',\n",
       "       'Not_Toxic', 'Not_Toxic', 'Not_Toxic', 'Not_Toxic', 'Not_Toxic',\n",
       "       'Toxic', 'Not_Toxic', 'Not_Toxic', 'Not_Toxic', 'Not_Toxic',\n",
       "       'Not_Toxic', 'Not_Toxic', 'Not_Toxic', 'Toxic', 'Not_Toxic',\n",
       "       'Not_Toxic', 'Not_Toxic', 'Not_Toxic', 'Not_Toxic', 'Toxic',\n",
       "       'Not_Toxic', 'Not_Toxic', 'Not_Toxic', 'Not_Toxic', 'Not_Toxic',\n",
       "       'Not_Toxic', 'Not_Toxic', 'Not_Toxic', 'Not_Toxic', 'Not_Toxic',\n",
       "       'Not_Toxic', 'Not_Toxic', 'Not_Toxic'], dtype='<U9')"
      ]
     },
     "execution_count": 143,
     "metadata": {},
     "output_type": "execute_result"
    }
   ],
   "source": [
    "predicted_svm"
   ]
  },
  {
   "cell_type": "markdown",
   "metadata": {},
   "source": [
    "# LogisticRegression"
   ]
  },
  {
   "cell_type": "code",
   "execution_count": 146,
   "metadata": {},
   "outputs": [
    {
     "name": "stdout",
     "output_type": "stream",
     "text": [
      "[LibLinear]"
     ]
    }
   ],
   "source": [
    "text_clf_log_reg = Pipeline([('vect', CountVectorizer()),\n",
    "                      ('tfidf', TfidfTransformer()),\n",
    "                      ('clf-svm', LogisticRegression(verbose=1, solver='liblinear',random_state=0, C=5, penalty='l2',max_iter=1000)),\n",
    "])\n",
    "train_log_reg = text_clf_log_reg.fit(df_train['ClearText'], df_train['Category'])"
   ]
  },
  {
   "cell_type": "code",
   "execution_count": 147,
   "metadata": {},
   "outputs": [
    {
     "data": {
      "text/plain": [
       "0.5783132530120482"
      ]
     },
     "execution_count": 147,
     "metadata": {},
     "output_type": "execute_result"
    }
   ],
   "source": [
    "predicted_log_reg = text_clf_log_reg.predict(df_test['ClearText'])\n",
    "np.mean(predicted_log_reg == df_test['Category'])"
   ]
  },
  {
   "cell_type": "code",
   "execution_count": null,
   "metadata": {},
   "outputs": [],
   "source": []
  },
  {
   "cell_type": "code",
   "execution_count": null,
   "metadata": {},
   "outputs": [],
   "source": []
  }
 ],
 "metadata": {
  "kernelspec": {
   "display_name": "Python 3",
   "language": "python",
   "name": "python3"
  },
  "language_info": {
   "codemirror_mode": {
    "name": "ipython",
    "version": 3
   },
   "file_extension": ".py",
   "mimetype": "text/x-python",
   "name": "python",
   "nbconvert_exporter": "python",
   "pygments_lexer": "ipython3",
   "version": "3.7.4"
  }
 },
 "nbformat": 4,
 "nbformat_minor": 2
}
